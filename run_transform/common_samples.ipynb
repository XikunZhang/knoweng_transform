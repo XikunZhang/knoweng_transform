{
 "cells": [
  {
   "cell_type": "markdown",
   "metadata": {},
   "source": [
    "# Spreadsheet - common samples \n",
    "<img src=\"../images/intersect.png\">\n",
    "\n",
    "### Return the common samples intersections of two spreadsheets with common sample names: \n",
    "* **Select your \"Input Files\" with the dropdown listboxes.**\n",
    "* **Press \"Get Common Samples\" and the common samples intersections will be written to files by the same name with \"_Com\" appended.**"
   ]
  },
  {
   "cell_type": "code",
   "execution_count": null,
   "metadata": {
    "init_cell": true
   },
   "outputs": [],
   "source": [
    "# %%html\n",
    "# <style>\n",
    "# div.input {\n",
    "#     display:none;\n",
    "# }\n",
    "# div.output_stderr{\n",
    "#     display:none\n",
    "# }\n",
    "# </style>"
   ]
  },
  {
   "cell_type": "code",
   "execution_count": null,
   "metadata": {
    "init_cell": true
   },
   "outputs": [],
   "source": [
    "#                                         single cell for select, open and transpose:\n",
    "#                                         target directory set for docker run -v `pwd`:...   ==  mount user data\n",
    "target_dir = '../../'\n",
    "\n",
    "import warnings\n",
    "warnings.filterwarnings('ignore')\n",
    "\n",
    "import os\n",
    "import sys\n",
    "import pandas as pd\n",
    "import knpackage.toolbox as kn\n",
    "\n",
    "from IPython.display import display\n",
    "import ipywidgets as widgets\n",
    "\n",
    "#                                         local function to read files and get common samples and write:\n",
    "def get_common_samples(obie_jobie):\n",
    "    if len(my_file_list) == 0 or my_file_list[0] == 'No Data':\n",
    "        return\n",
    "    \n",
    "    file_name_1 = os.path.join(target_dir, flistbx_1.value)\n",
    "    file_name_2 = os.path.join(target_dir, flistbx_2.value)\n",
    "    sxp_1_df = pd.read_csv(file_name_1, sep='\\t', index_col=0, header=0)\n",
    "    sxp_2_df = pd.read_csv(file_name_2, sep='\\t', index_col=0, header=0)\n",
    "    sxp_1_gene_names = kn.extract_spreadsheet_gene_names(sxp_1_df)\n",
    "    sxp_2_gene_names = kn.extract_spreadsheet_gene_names(sxp_2_df)\n",
    "    common_samples_list = kn.find_common_node_names(sxp_1_gene_names, sxp_2_gene_names)\n",
    "    sxp_1_trim_df,sxp_2_trim_df = sxp_1_df.loc[common_samples_list], sxp_2_df.loc[common_samples_list]\n",
    "    name_base_1, file_extension_1 = os.path.splitext(file_name_1)\n",
    "    outfile_name_1 = name_base_1 + '_Com.tsv'\n",
    "    name_base_2, file_extension_2 = os.path.splitext(file_name_2)\n",
    "    outfile_name_2 = name_base_2 + '_Com.tsv'\n",
    "    sxp_1_trim_df.to_csv(outfile_name_1, sep='\\t', index=True, header=True)\n",
    "    sxp_2_trim_df.to_csv(outfile_name_2, sep='\\t', index=True, header=True)\n",
    "    print('Outputs written to\\n', outfile_name_1,'\\nand\\n',outfile_name_2)\n",
    "\n",
    "#                                         Get list of (docker run -v) mounted files:\n",
    "flist = os.listdir(target_dir)\n",
    "FEXT = ['.tsv', '.txt', '.df']\n",
    "my_file_list = []\n",
    "for f in flist:\n",
    "    if os.path.isfile(os.path.join(target_dir, f)):\n",
    "        noNeed, f_ext = os.path.splitext(f)\n",
    "        if f_ext in FEXT:\n",
    "            my_file_list.append(f)\n",
    "\n",
    "#                                         (docker run -v) mounted files was empty:\n",
    "if len(my_file_list) <= 0:\n",
    "    my_file_list.append('No Data')\n",
    "\n",
    "#                                         Create and display the widget controls:\n",
    "flistbx_1 = widgets.Dropdown(\n",
    "    options=my_file_list,\n",
    "    value=my_file_list[0],\n",
    "    description='Select File1:'\n",
    ")\n",
    "display(flistbx_1)\n",
    "\n",
    "flistbx_2 = widgets.Dropdown(\n",
    "    options=my_file_list,\n",
    "    value=my_file_list[0],\n",
    "    description='Select File2:'\n",
    ")\n",
    "display(flistbx_2)\n",
    "\n",
    "output_file_button = widgets.Button(\n",
    "    description='Get Common Samples',\n",
    "    disabled=False,\n",
    "    button_style='',\n",
    "    tooltip='get common samples button',\n",
    "    data_file_key='output_file_name'\n",
    "    )\n",
    "output_file_button.on_click(get_common_samples)\n",
    "display(output_file_button)\n"
   ]
  }
 ],
 "metadata": {
  "kernelspec": {
   "display_name": "Python 3",
   "language": "python",
   "name": "python3"
  },
  "language_info": {
   "codemirror_mode": {
    "name": "ipython",
    "version": 3
   },
   "file_extension": ".py",
   "mimetype": "text/x-python",
   "name": "python",
   "nbconvert_exporter": "python",
   "pygments_lexer": "ipython3",
   "version": "3.6.1"
  },
  "varInspector": {
   "cols": {
    "lenName": 16,
    "lenType": 16,
    "lenVar": 40
   },
   "kernels_config": {
    "python": {
     "delete_cmd_postfix": "",
     "delete_cmd_prefix": "del ",
     "library": "var_list.py",
     "varRefreshCmd": "print(var_dic_list())"
    },
    "r": {
     "delete_cmd_postfix": ") ",
     "delete_cmd_prefix": "rm(",
     "library": "var_list.r",
     "varRefreshCmd": "cat(var_dic_list()) "
    }
   },
   "types_to_exclude": [
    "module",
    "function",
    "builtin_function_or_method",
    "instance",
    "_Feature"
   ],
   "window_display": false
  }
 },
 "nbformat": 4,
 "nbformat_minor": 2
}
