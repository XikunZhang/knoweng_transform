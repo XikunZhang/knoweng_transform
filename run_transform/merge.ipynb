{
 "cells": [
  {
   "cell_type": "markdown",
   "metadata": {},
   "source": [
    "# Spreadsheet - merge \n",
    "\n",
    "### Combine two spreadsheets into one with all samples and phenotypes. (NaN filled): \n",
    "* **Select your \"Input Files\" with the dropdown listboxes.**\n",
    "* **Press \"Merge\" and the union will be written to a file by the same name with \"_Mrg\" appended.**"
   ]
  },
  {
   "cell_type": "code",
   "execution_count": 1,
   "metadata": {
    "init_cell": true
   },
   "outputs": [],
   "source": [
    "# %%html\n",
    "# <style>\n",
    "# div.input {\n",
    "#     display:none;\n",
    "# }\n",
    "# div.output_stderr{\n",
    "#     display:none\n",
    "# }\n",
    "# </style>"
   ]
  },
  {
   "cell_type": "code",
   "execution_count": 2,
   "metadata": {
    "init_cell": true
   },
   "outputs": [
    {
     "name": "stderr",
     "output_type": "stream",
     "text": [
      "Widget Javascript not detected.  It may not be installed or enabled properly.\n"
     ]
    },
    {
     "data": {
      "application/vnd.jupyter.widget-view+json": {
       "model_id": "037c9075b3584a3d9cf40f57f95fd4da"
      }
     },
     "metadata": {},
     "output_type": "display_data"
    },
    {
     "name": "stderr",
     "output_type": "stream",
     "text": [
      "Widget Javascript not detected.  It may not be installed or enabled properly.\n"
     ]
    },
    {
     "data": {
      "application/vnd.jupyter.widget-view+json": {
       "model_id": "6bd08bb846784d76be95a627e19bd62a"
      }
     },
     "metadata": {},
     "output_type": "display_data"
    },
    {
     "name": "stderr",
     "output_type": "stream",
     "text": [
      "Widget Javascript not detected.  It may not be installed or enabled properly.\n"
     ]
    },
    {
     "data": {
      "application/vnd.jupyter.widget-view+json": {
       "model_id": "8fa60112946c4655a68a95b8a2e7deb8"
      }
     },
     "metadata": {},
     "output_type": "display_data"
    },
    {
     "name": "stdout",
     "output_type": "stream",
     "text": [
      "Output written to\n",
      " ./transform_data/spreadsheet_One_spreadsheet_Two_Mrg.tsv\n"
     ]
    }
   ],
   "source": [
    "#                                         single cell for select, open and transpose:\n",
    "#                                         target directory set for docker run -v `pwd`:...   ==  mount user data\n",
    "target_dir = '../../'\n",
    "\n",
    "import warnings\n",
    "warnings.filterwarnings('ignore')\n",
    "\n",
    "import os\n",
    "import sys\n",
    "import pandas as pd\n",
    "import knpackage.toolbox as kn\n",
    "\n",
    "from IPython.display import display\n",
    "import ipywidgets as widgets\n",
    "\n",
    "#                                         local function to read files and get common samples and write:\n",
    "def merge(obie_jobie):\n",
    "    if len(my_file_list) == 0 or my_file_list[0] == 'No Data':\n",
    "        return\n",
    "    \n",
    "    file_name_1 = os.path.join(target_dir, flistbx_1.value)\n",
    "    file_name_2 = os.path.join(target_dir, flistbx_2.value)\n",
    "\n",
    "    spreadsheet_1_df = pd.read_csv(file_name_1, sep='\\t', index_col=0, header=0)\n",
    "    spreadsheet_2_df = pd.read_csv(file_name_2, sep='\\t', index_col=0, header=0)\n",
    "    spreadsheet_1_samples = kn.extract_spreadsheet_gene_names(spreadsheet_1_df)\n",
    "    spreadsheet_2_samples = kn.extract_spreadsheet_gene_names(spreadsheet_2_df)\n",
    "    \n",
    "    #all_samples_list = kn.find_unique_node_names(spreadsheet_1_samples, spreadsheet_2_samples)\n",
    "    \n",
    "    spreadsheet_1_phenotypes = list(spreadsheet_1_df.columns)\n",
    "    spreadsheet_2_phenotypes = list(spreadsheet_2_df.columns)\n",
    "    \n",
    "    #all_phenotypes_list = kn.find_unique_node_names(spreadsheet_1_phenotypes, spreadsheet_2_phenotypes)\n",
    "    \n",
    "    spreadsheet_X_df = pd.concat([spreadsheet_1_df, spreadsheet_2_df], axis=1)\n",
    "    name_base_1, file_extension_1 = os.path.splitext(file_name_1)\n",
    "    name_base_2, file_extension_2 = os.path.splitext(file_name_2)\n",
    "    # print(os.path.basename(name_base_2))\n",
    "    # print(os.path.relpath(name_base_2,start=target_dir))\n",
    "    outfile_name = name_base_1 + '_' + os.path.basename(name_base_2) + '_Mrg.tsv'\n",
    "    spreadsheet_X_df.to_csv(outfile_name, sep='\\t', index=True, header=True)\n",
    "    print('Output written to\\n', outfile_name)\n",
    "\n",
    "#                                         Get list of (docker run -v) mounted files:\n",
    "flist = os.listdir(target_dir)\n",
    "FEXT = ['.tsv', '.txt', '.df']\n",
    "my_file_list = []\n",
    "for f in flist:\n",
    "    if os.path.isfile(os.path.join(target_dir, f)):\n",
    "        noNeed, f_ext = os.path.splitext(f)\n",
    "        if f_ext in FEXT:\n",
    "            my_file_list.append(f)\n",
    "\n",
    "#                                         (docker run -v) mounted files was empty:\n",
    "if len(my_file_list) <= 0:\n",
    "    my_file_list.append('No Data')\n",
    "\n",
    "#                                         Create and display the widget controls:\n",
    "flistbx_1 = widgets.Dropdown(\n",
    "    options=my_file_list,\n",
    "    value=my_file_list[0],\n",
    "    description='Select File 1:'\n",
    ")\n",
    "display(flistbx_1)\n",
    "\n",
    "flistbx_2 = widgets.Dropdown(\n",
    "    options=my_file_list,\n",
    "    value=my_file_list[0],\n",
    "    description='Select File 2:'\n",
    ")\n",
    "display(flistbx_2)\n",
    "\n",
    "output_file_button = widgets.Button(\n",
    "    description='Merge',\n",
    "    disabled=False,\n",
    "    button_style='',\n",
    "    tooltip='merge button',\n",
    "    data_file_key='output_file_name'\n",
    "    )\n",
    "output_file_button.on_click(merge)\n",
    "display(output_file_button)\n"
   ]
  }
 ],
 "metadata": {
  "kernelspec": {
   "display_name": "Python 3",
   "language": "python",
   "name": "python3"
  },
  "language_info": {
   "codemirror_mode": {
    "name": "ipython",
    "version": 3
   },
   "file_extension": ".py",
   "mimetype": "text/x-python",
   "name": "python",
   "nbconvert_exporter": "python",
   "pygments_lexer": "ipython3",
   "version": "3.6.1"
  },
  "varInspector": {
   "cols": {
    "lenName": 16,
    "lenType": 16,
    "lenVar": 40
   },
   "kernels_config": {
    "python": {
     "delete_cmd_postfix": "",
     "delete_cmd_prefix": "del ",
     "library": "var_list.py",
     "varRefreshCmd": "print(var_dic_list())"
    },
    "r": {
     "delete_cmd_postfix": ") ",
     "delete_cmd_prefix": "rm(",
     "library": "var_list.r",
     "varRefreshCmd": "cat(var_dic_list()) "
    }
   },
   "types_to_exclude": [
    "module",
    "function",
    "builtin_function_or_method",
    "instance",
    "_Feature"
   ],
   "window_display": false
  }
 },
 "nbformat": 4,
 "nbformat_minor": 2
}
