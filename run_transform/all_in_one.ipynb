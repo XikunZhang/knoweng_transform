{
 "cells": [
  {
   "cell_type": "markdown",
   "metadata": {},
   "source": [
    "# Spreadsheet - transpose \n",
    "\n",
    "### Transpose a file:\n",
    "* **Select your spreadsheet file from the \"Select File\" dropdown listbox below.**\n",
    "* **Press the \"Transpose\" button and the transposed spreadsheet will be written to a file by the same name of the input file with \"_T\" appended in the same directory of the input file.**"
   ]
  },
  {
   "cell_type": "code",
   "execution_count": 1,
   "metadata": {
    "init_cell": true
   },
   "outputs": [
    {
     "data": {
      "text/html": [
       "<style>\n",
       "div.input {\n",
       "    display:none;\n",
       "}\n",
       "div.output_stderr{\n",
       "    display:none\n",
       "}\n",
       "</style>"
      ],
      "text/plain": [
       "<IPython.core.display.HTML object>"
      ]
     },
     "metadata": {},
     "output_type": "display_data"
    }
   ],
   "source": [
    "%%html\n",
    "<style>\n",
    "div.input {\n",
    "    display:none;\n",
    "}\n",
    "div.output_stderr{\n",
    "    display:none\n",
    "}\n",
    "</style>"
   ]
  },
  {
   "cell_type": "code",
   "execution_count": 2,
   "metadata": {
    "init_cell": true
   },
   "outputs": [
    {
     "name": "stderr",
     "output_type": "stream",
     "text": [
      "Widget Javascript not detected.  It may not be installed or enabled properly.\n"
     ]
    },
    {
     "data": {
      "application/vnd.jupyter.widget-view+json": {
       "model_id": "bf16c746045749c7bde40d243d44bf40"
      }
     },
     "metadata": {},
     "output_type": "display_data"
    },
    {
     "name": "stderr",
     "output_type": "stream",
     "text": [
      "Widget Javascript not detected.  It may not be installed or enabled properly.\n"
     ]
    },
    {
     "data": {
      "application/vnd.jupyter.widget-view+json": {
       "model_id": "fa91f516ed7c4063bdf130a8e58f547e"
      }
     },
     "metadata": {},
     "output_type": "display_data"
    }
   ],
   "source": [
    "#                                         single cell for select, open and transpose:\n",
    "#                                         target directory set for docker run -v `pwd`:...   ==  mount user data\n",
    "target_dir = './transform_data/'\n",
    "\n",
    "import warnings\n",
    "warnings.filterwarnings('ignore')\n",
    "\n",
    "import os\n",
    "import sys\n",
    "import pandas as pd\n",
    "\n",
    "from IPython.display import display\n",
    "import ipywidgets as widgets\n",
    "\n",
    "#                                         local function to open and transpose:\n",
    "def transpose_selected_file(obie_jobie):\n",
    "    if len(my_file_list) == 0 or my_file_list[0] == 'No Data':\n",
    "        return\n",
    "    \n",
    "    file_name = os.path.join(target_dir, flistbx.value)\n",
    "    spreadsheet_df = pd.read_csv(file_name, sep='\\t', index_col=0, header=0)\n",
    "    spreadsheet_df = spreadsheet_df.transpose()\n",
    "    name_base, file_extension = os.path.splitext(file_name)\n",
    "    outfile_name = name_base + '_T.tsv'\n",
    "    spreadsheet_df.to_csv(outfile_name, sep='\\t')\n",
    "    print('Output written to\\n', outfile_name)\n",
    "\n",
    "#                                         Get list of (docker run -v) mounted files:\n",
    "flist = os.listdir(target_dir)\n",
    "FEXT = ['.tsv', '.txt', '.df']\n",
    "my_file_list = []\n",
    "for f in flist:\n",
    "    if os.path.isfile(os.path.join(target_dir, f)):\n",
    "        noNeed, f_ext = os.path.splitext(f)\n",
    "        if f_ext in FEXT:\n",
    "            my_file_list.append(f)\n",
    "\n",
    "#                                         (docker run -v) mounted files was empty:\n",
    "if len(my_file_list) <= 0:\n",
    "    my_file_list.append('No Data')\n",
    "\n",
    "#                                         Create and display the widget controls:\n",
    "flistbx = widgets.Dropdown(\n",
    "    options=my_file_list,\n",
    "    value=my_file_list[0],\n",
    "    description='Select File:'\n",
    ")\n",
    "display(flistbx)\n",
    "\n",
    "output_file_button = widgets.Button(\n",
    "    description='Transpose',\n",
    "    disabled=False,\n",
    "    button_style='',\n",
    "    tooltip='file to transpose',\n",
    "    data_file_key='output_file_name'\n",
    "    )\n",
    "output_file_button.on_click(transpose_selected_file)\n",
    "display(output_file_button)"
   ]
  },
  {
   "cell_type": "markdown",
   "metadata": {
    "collapsed": true
   },
   "source": [
    "# Spreadsheet - common samples \n",
    "\n",
    "### Return the subsets of two spreadsheets with only common samples of 2 spreadsheets: \n",
    "* **Select your two samples x phenotypes spreadsheet files respectively from the \"Select File 1\" and \"Select File 2\" dropdown listboxes below.**\n",
    "* **Press the \"Get Common Samples\" button and the corresponding subsets of the spreadsheets with only common samples of 2 spreadsheets will be written to 2 files by the same names of 2 input files with \"_Com\" appended respectively in the same directory of the input files.**"
   ]
  },
  {
   "cell_type": "code",
   "execution_count": 3,
   "metadata": {},
   "outputs": [
    {
     "data": {
      "text/html": [
       "<style>\n",
       "div.input {\n",
       "    display:none;\n",
       "}\n",
       "div.output_stderr{\n",
       "    display:none\n",
       "}\n",
       "</style>"
      ],
      "text/plain": [
       "<IPython.core.display.HTML object>"
      ]
     },
     "metadata": {},
     "output_type": "display_data"
    }
   ],
   "source": [
    "%%html\n",
    "<style>\n",
    "div.input {\n",
    "    display:none;\n",
    "}\n",
    "div.output_stderr{\n",
    "    display:none\n",
    "}\n",
    "</style>"
   ]
  },
  {
   "cell_type": "code",
   "execution_count": 4,
   "metadata": {},
   "outputs": [
    {
     "name": "stderr",
     "output_type": "stream",
     "text": [
      "Widget Javascript not detected.  It may not be installed or enabled properly.\n"
     ]
    },
    {
     "data": {
      "application/vnd.jupyter.widget-view+json": {
       "model_id": "a53c74ee61d34b54bdce14ec3e0064da"
      }
     },
     "metadata": {},
     "output_type": "display_data"
    },
    {
     "name": "stderr",
     "output_type": "stream",
     "text": [
      "Widget Javascript not detected.  It may not be installed or enabled properly.\n"
     ]
    },
    {
     "data": {
      "application/vnd.jupyter.widget-view+json": {
       "model_id": "66394b277c674ad2b8d716a547096ebf"
      }
     },
     "metadata": {},
     "output_type": "display_data"
    },
    {
     "name": "stderr",
     "output_type": "stream",
     "text": [
      "Widget Javascript not detected.  It may not be installed or enabled properly.\n"
     ]
    },
    {
     "data": {
      "application/vnd.jupyter.widget-view+json": {
       "model_id": "994d125e55224b44825e206b1049827e"
      }
     },
     "metadata": {},
     "output_type": "display_data"
    }
   ],
   "source": [
    "#                                         single cell for select, open and transpose:\n",
    "#                                         target directory set for docker run -v `pwd`:...   ==  mount user data\n",
    "target_dir = '../../'\n",
    "\n",
    "import warnings\n",
    "warnings.filterwarnings('ignore')\n",
    "\n",
    "import os\n",
    "import sys\n",
    "import pandas as pd\n",
    "import knpackage.toolbox as kn\n",
    "\n",
    "from IPython.display import display\n",
    "import ipywidgets as widgets\n",
    "\n",
    "#                                         local function to read files and get common samples and write:\n",
    "def get_common_samples(obie_jobie):\n",
    "    if len(my_file_list) == 0 or my_file_list[0] == 'No Data':\n",
    "        return\n",
    "    \n",
    "    file_name_1 = os.path.join(target_dir, flistbx_1.value)\n",
    "    file_name_2 = os.path.join(target_dir, flistbx_2.value)\n",
    "    sxp_1_df = pd.read_csv(file_name_1, sep='\\t', index_col=0, header=0)\n",
    "    sxp_2_df = pd.read_csv(file_name_2, sep='\\t', index_col=0, header=0)\n",
    "    sxp_1_gene_names = kn.extract_spreadsheet_gene_names(sxp_1_df)\n",
    "    sxp_2_gene_names = kn.extract_spreadsheet_gene_names(sxp_2_df)\n",
    "    common_samples_list = kn.find_common_node_names(sxp_1_gene_names, sxp_2_gene_names)\n",
    "    sxp_1_trim_df,sxp_2_trim_df = sxp_1_df.loc[common_samples_list], sxp_2_df.loc[common_samples_list]\n",
    "    name_base_1, file_extension_1 = os.path.splitext(file_name_1)\n",
    "    outfile_name_1 = name_base_1 + '_Com.tsv'\n",
    "    name_base_2, file_extension_2 = os.path.splitext(file_name_2)\n",
    "    outfile_name_2 = name_base_2 + '_Com.tsv'\n",
    "    sxp_1_trim_df.to_csv(outfile_name_1, sep='\\t', index=True, header=True)\n",
    "    sxp_2_trim_df.to_csv(outfile_name_2, sep='\\t', index=True, header=True)\n",
    "    print('Outputs written to\\n', outfile_name_1,'\\nand\\n',outfile_name_2)\n",
    "\n",
    "#                                         Get list of (docker run -v) mounted files:\n",
    "flist = os.listdir(target_dir)\n",
    "FEXT = ['.tsv', '.txt', '.df']\n",
    "my_file_list = []\n",
    "for f in flist:\n",
    "    if os.path.isfile(os.path.join(target_dir, f)):\n",
    "        noNeed, f_ext = os.path.splitext(f)\n",
    "        if f_ext in FEXT:\n",
    "            my_file_list.append(f)\n",
    "\n",
    "#                                         (docker run -v) mounted files was empty:\n",
    "if len(my_file_list) <= 0:\n",
    "    my_file_list.append('No Data')\n",
    "\n",
    "#                                         Create and display the widget controls:\n",
    "flistbx_1 = widgets.Dropdown(\n",
    "    options=my_file_list,\n",
    "    value=my_file_list[0],\n",
    "    description='Select File 1:'\n",
    ")\n",
    "display(flistbx_1)\n",
    "\n",
    "flistbx_2 = widgets.Dropdown(\n",
    "    options=my_file_list,\n",
    "    value=my_file_list[0],\n",
    "    description='Select File 2:'\n",
    ")\n",
    "display(flistbx_2)\n",
    "\n",
    "output_file_button = widgets.Button(\n",
    "    description='Get Common Samples',\n",
    "    disabled=False,\n",
    "    button_style='',\n",
    "    tooltip='get common samples button',\n",
    "    data_file_key='output_file_name'\n",
    "    )\n",
    "output_file_button.on_click(get_common_samples)\n",
    "display(output_file_button)\n"
   ]
  },
  {
   "cell_type": "markdown",
   "metadata": {
    "collapsed": true
   },
   "source": [
    "# Spreadsheet - merge \n",
    "\n",
    "### Combine two spreadsheets into one with all samples and phenotypes (NaN filled): \n",
    "* **Select your two samples x phenotypes spreadsheet files respectively from the \"Select File 1\" and \"Select File 2\" dropdown listboxes below.**\n",
    "* **Press the \"Merge\" button and the union spreadsheet of those 2 spreadsheets will be written to a file by the name of first input file with the name of the second input file and \"_Mrg\" appended in the same directory of the input files.**"
   ]
  },
  {
   "cell_type": "code",
   "execution_count": 5,
   "metadata": {},
   "outputs": [
    {
     "data": {
      "text/html": [
       "<style>\n",
       "div.input {\n",
       "    display:none;\n",
       "}\n",
       "div.output_stderr{\n",
       "    display:none\n",
       "}\n",
       "</style>\n",
       "\n"
      ],
      "text/plain": [
       "<IPython.core.display.HTML object>"
      ]
     },
     "metadata": {},
     "output_type": "display_data"
    }
   ],
   "source": [
    "%%html\n",
    "<style>\n",
    "div.input {\n",
    "    display:none;\n",
    "}\n",
    "div.output_stderr{\n",
    "    display:none\n",
    "}\n",
    "</style>\n",
    "\n",
    "\n"
   ]
  },
  {
   "cell_type": "code",
   "execution_count": 6,
   "metadata": {},
   "outputs": [
    {
     "name": "stderr",
     "output_type": "stream",
     "text": [
      "Widget Javascript not detected.  It may not be installed or enabled properly.\n"
     ]
    },
    {
     "data": {
      "application/vnd.jupyter.widget-view+json": {
       "model_id": "ce68358f11ca46968f558131de31a465"
      }
     },
     "metadata": {},
     "output_type": "display_data"
    },
    {
     "name": "stderr",
     "output_type": "stream",
     "text": [
      "Widget Javascript not detected.  It may not be installed or enabled properly.\n"
     ]
    },
    {
     "data": {
      "application/vnd.jupyter.widget-view+json": {
       "model_id": "c483b40292f8488aa01c036c9e8247e9"
      }
     },
     "metadata": {},
     "output_type": "display_data"
    },
    {
     "name": "stderr",
     "output_type": "stream",
     "text": [
      "Widget Javascript not detected.  It may not be installed or enabled properly.\n"
     ]
    },
    {
     "data": {
      "application/vnd.jupyter.widget-view+json": {
       "model_id": "0e1781333ebe4c9bb4eba051589dfe92"
      }
     },
     "metadata": {},
     "output_type": "display_data"
    }
   ],
   "source": [
    "#                                         single cell for select, open and transpose:\n",
    "#                                         target directory set for docker run -v `pwd`:...   ==  mount user data\n",
    "target_dir = '../../'\n",
    "\n",
    "import warnings\n",
    "warnings.filterwarnings('ignore')\n",
    "\n",
    "import os\n",
    "import sys\n",
    "import pandas as pd\n",
    "import knpackage.toolbox as kn\n",
    "\n",
    "from IPython.display import display\n",
    "import ipywidgets as widgets\n",
    "\n",
    "#                                         local function to read files and get common samples and write:\n",
    "def merge(obie_jobie):\n",
    "    if len(my_file_list) == 0 or my_file_list[0] == 'No Data':\n",
    "        return\n",
    "    \n",
    "    file_name_1 = os.path.join(target_dir, flistbx_1.value)\n",
    "    file_name_2 = os.path.join(target_dir, flistbx_2.value)\n",
    "\n",
    "    spreadsheet_1_df = pd.read_csv(file_name_1, sep='\\t', index_col=0, header=0)\n",
    "    spreadsheet_2_df = pd.read_csv(file_name_2, sep='\\t', index_col=0, header=0)\n",
    "    spreadsheet_1_samples = kn.extract_spreadsheet_gene_names(spreadsheet_1_df)\n",
    "    spreadsheet_2_samples = kn.extract_spreadsheet_gene_names(spreadsheet_2_df)\n",
    "    \n",
    "    #all_samples_list = kn.find_unique_node_names(spreadsheet_1_samples, spreadsheet_2_samples)\n",
    "    \n",
    "    spreadsheet_1_phenotypes = list(spreadsheet_1_df.columns)\n",
    "    spreadsheet_2_phenotypes = list(spreadsheet_2_df.columns)\n",
    "    \n",
    "    #all_phenotypes_list = kn.find_unique_node_names(spreadsheet_1_phenotypes, spreadsheet_2_phenotypes)\n",
    "    \n",
    "    spreadsheet_X_df = pd.concat([spreadsheet_1_df, spreadsheet_2_df], axis=1)\n",
    "    name_base_1, file_extension_1 = os.path.splitext(file_name_1)\n",
    "    name_base_2, file_extension_2 = os.path.splitext(file_name_2)\n",
    "    # print(os.path.basename(name_base_2))\n",
    "    # print(os.path.relpath(name_base_2,start=target_dir))\n",
    "    outfile_name = name_base_1 + '_' + os.path.basename(name_base_2) + '_Mrg.tsv'\n",
    "    spreadsheet_X_df.to_csv(outfile_name, sep='\\t', index=True, header=True)\n",
    "    print('Output written to\\n', outfile_name)\n",
    "\n",
    "#                                         Get list of (docker run -v) mounted files:\n",
    "flist = os.listdir(target_dir)\n",
    "FEXT = ['.tsv', '.txt', '.df']\n",
    "my_file_list = []\n",
    "for f in flist:\n",
    "    if os.path.isfile(os.path.join(target_dir, f)):\n",
    "        noNeed, f_ext = os.path.splitext(f)\n",
    "        if f_ext in FEXT:\n",
    "            my_file_list.append(f)\n",
    "\n",
    "#                                         (docker run -v) mounted files was empty:\n",
    "if len(my_file_list) <= 0:\n",
    "    my_file_list.append('No Data')\n",
    "\n",
    "#                                         Create and display the widget controls:\n",
    "flistbx_1 = widgets.Dropdown(\n",
    "    options=my_file_list,\n",
    "    value=my_file_list[0],\n",
    "    description='Select File 1:'\n",
    ")\n",
    "display(flistbx_1)\n",
    "\n",
    "flistbx_2 = widgets.Dropdown(\n",
    "    options=my_file_list,\n",
    "    value=my_file_list[0],\n",
    "    description='Select File 2:'\n",
    ")\n",
    "display(flistbx_2)\n",
    "\n",
    "output_file_button = widgets.Button(\n",
    "    description='Merge',\n",
    "    disabled=False,\n",
    "    button_style='',\n",
    "    tooltip='merge button',\n",
    "    data_file_key='output_file_name'\n",
    "    )\n",
    "output_file_button.on_click(merge)\n",
    "display(output_file_button)\n",
    "\n"
   ]
  },
  {
   "cell_type": "markdown",
   "metadata": {},
   "source": [
    "# Spreadsheet - select_genes \n",
    "\n",
    "### Return one spreadsheet with only those genes selected from an input list: \n",
    "* **Select your genes x samples spreadsheet file and gene list file respectively from the \"Select Spreadsheet File\" and \"Select Gene List File\" dropdown listboxes below.**\n",
    "* **Press the \"Select Genes\" button and the spreadsheet with only those genes selected will be written to a file by same name of the input spreadsheet file with \"_Slct_Gn\" appended in the same directory of the input files.**"
   ]
  },
  {
   "cell_type": "code",
   "execution_count": 7,
   "metadata": {},
   "outputs": [
    {
     "data": {
      "text/html": [
       "<style>\n",
       "div.input {\n",
       "    display:none;\n",
       "}\n",
       "div.output_stderr{\n",
       "    display:none\n",
       "}\n",
       "</style>"
      ],
      "text/plain": [
       "<IPython.core.display.HTML object>"
      ]
     },
     "metadata": {},
     "output_type": "display_data"
    }
   ],
   "source": [
    "%%html\n",
    "<style>\n",
    "div.input {\n",
    "    display:none;\n",
    "}\n",
    "div.output_stderr{\n",
    "    display:none\n",
    "}\n",
    "</style>"
   ]
  },
  {
   "cell_type": "code",
   "execution_count": 8,
   "metadata": {},
   "outputs": [
    {
     "name": "stderr",
     "output_type": "stream",
     "text": [
      "Widget Javascript not detected.  It may not be installed or enabled properly.\n"
     ]
    },
    {
     "data": {
      "application/vnd.jupyter.widget-view+json": {
       "model_id": "370abf87a30745e0b85b325d634b5931"
      }
     },
     "metadata": {},
     "output_type": "display_data"
    },
    {
     "name": "stderr",
     "output_type": "stream",
     "text": [
      "Widget Javascript not detected.  It may not be installed or enabled properly.\n"
     ]
    },
    {
     "data": {
      "application/vnd.jupyter.widget-view+json": {
       "model_id": "40457d6172c1487ab29b399e1fd1d6e8"
      }
     },
     "metadata": {},
     "output_type": "display_data"
    },
    {
     "name": "stderr",
     "output_type": "stream",
     "text": [
      "Widget Javascript not detected.  It may not be installed or enabled properly.\n"
     ]
    },
    {
     "data": {
      "application/vnd.jupyter.widget-view+json": {
       "model_id": "b54cc69b57e54ad89c9c4f4e5c5cc361"
      }
     },
     "metadata": {},
     "output_type": "display_data"
    }
   ],
   "source": [
    "#                                         single cell for select, open and transpose:\n",
    "#                                         target directory set for docker run -v `pwd`:...   ==  mount user data\n",
    "target_dir = '../../'\n",
    "\n",
    "import warnings\n",
    "warnings.filterwarnings('ignore')\n",
    "\n",
    "import os\n",
    "import sys\n",
    "import pandas as pd\n",
    "import knpackage.toolbox as kn\n",
    "\n",
    "from IPython.display import display\n",
    "import ipywidgets as widgets\n",
    "\n",
    "# utility\n",
    "def read_a_list_file(input_file_name):\n",
    "    \"\"\"\n",
    "    Args:\n",
    "        input_file_name:     full path name of a file containing a list\n",
    "    Returns:\n",
    "        a list that is contained in the file\n",
    "    \"\"\"\n",
    "    with open(input_file_name, 'r') as fh:\n",
    "        str_input = fh.read()\n",
    "    return list(str_input.split())\n",
    "\n",
    "#                                         local function to read files and get common samples and write:\n",
    "def select_genes(obie_jobie):\n",
    "    if len(my_file_list) == 0 or my_file_list[0] == 'No Data':\n",
    "        return\n",
    "    \n",
    "    file_name_1 = os.path.join(target_dir, flistbx_1.value)\n",
    "    file_name_2 = os.path.join(target_dir, flistbx_2.value)\n",
    "\n",
    "    gene_select_list = read_a_list_file(file_name_2)\n",
    "    spreadsheet_df = pd.read_csv(file_name_1, sep='\\t', index_col=0, header=0)\n",
    "    gene_names = kn.extract_spreadsheet_gene_names(spreadsheet_df)\n",
    "    intersection_names = kn.find_common_node_names(gene_names, gene_select_list)\n",
    "    spreadsheet_intersected_df = spreadsheet_df.loc[intersection_names] \n",
    "    \n",
    "    name_base_1, file_extension_1 = os.path.splitext(file_name_1)\n",
    "    # print(os.path.basename(name_base_2))\n",
    "    # print(os.path.relpath(name_base_2,start=target_dir))\n",
    "    outfile_name = name_base_1 + '_Slt_Gn.tsv'\n",
    "    spreadsheet_intersected_df.to_csv(outfile_name, sep='\\t', index=True, header=True)\n",
    "    print('Output written to\\n', outfile_name)\n",
    "\n",
    "#                                         Get list of (docker run -v) mounted files:\n",
    "flist = os.listdir(target_dir)\n",
    "FEXT = ['.tsv', '.txt', '.df']\n",
    "my_file_list = []\n",
    "for f in flist:\n",
    "    if os.path.isfile(os.path.join(target_dir, f)):\n",
    "        noNeed, f_ext = os.path.splitext(f)\n",
    "        if f_ext in FEXT:\n",
    "            my_file_list.append(f)\n",
    "\n",
    "#                                         (docker run -v) mounted files was empty:\n",
    "if len(my_file_list) <= 0:\n",
    "    my_file_list.append('No Data')\n",
    "\n",
    "#                                         Create and display the widget controls:\n",
    "flistbx_1 = widgets.Dropdown(\n",
    "    options=my_file_list,\n",
    "    value=my_file_list[0],\n",
    "    description='Select Spreadsheet File:'\n",
    ")\n",
    "display(flistbx_1)\n",
    "\n",
    "flistbx_2 = widgets.Dropdown(\n",
    "    options=my_file_list,\n",
    "    value=my_file_list[0],\n",
    "    description='Select Gene List File:'\n",
    ")\n",
    "display(flistbx_2)\n",
    "\n",
    "output_file_button = widgets.Button(\n",
    "    description='Select Genes',\n",
    "    disabled=False,\n",
    "    button_style='',\n",
    "    tooltip='select genes button',\n",
    "    data_file_key='output_file_name'\n",
    "    )\n",
    "output_file_button.on_click(select_genes)\n",
    "display(output_file_button)\n"
   ]
  },
  {
   "cell_type": "markdown",
   "metadata": {},
   "source": [
    "# Spreadsheet - cluster_averages \n",
    "\n",
    "### Return a spreadsheet of averages for each category given a genes x samples dataframe and a samples classification dictionary: \n",
    "* **Select your genes x samples spreadsheet file and samples classification dictionary file respectively from the \"Select Spreadsheet File\" and \"Select Dictionary File\" dropdown listboxes below.**\n",
    "* **Press the \"Get Cluster Averages\" button the spreadsheet of averages for each category will be written to a file by the same name of the input spreadsheet file with \"_Clst_Avg\" appended in the same directory of the input files.**"
   ]
  },
  {
   "cell_type": "code",
   "execution_count": 9,
   "metadata": {},
   "outputs": [
    {
     "data": {
      "text/html": [
       "<style>\n",
       "div.input {\n",
       "    display:none;\n",
       "}\n",
       "div.output_stderr{\n",
       "    display:none\n",
       "}\n",
       "</style>"
      ],
      "text/plain": [
       "<IPython.core.display.HTML object>"
      ]
     },
     "metadata": {},
     "output_type": "display_data"
    }
   ],
   "source": [
    "%%html\n",
    "<style>\n",
    "div.input {\n",
    "    display:none;\n",
    "}\n",
    "div.output_stderr{\n",
    "    display:none\n",
    "}\n",
    "</style>"
   ]
  },
  {
   "cell_type": "code",
   "execution_count": 10,
   "metadata": {},
   "outputs": [
    {
     "name": "stderr",
     "output_type": "stream",
     "text": [
      "Widget Javascript not detected.  It may not be installed or enabled properly.\n"
     ]
    },
    {
     "data": {
      "application/vnd.jupyter.widget-view+json": {
       "model_id": "5f735801c5184f6b935c17833ef9a744"
      }
     },
     "metadata": {},
     "output_type": "display_data"
    },
    {
     "name": "stderr",
     "output_type": "stream",
     "text": [
      "Widget Javascript not detected.  It may not be installed or enabled properly.\n"
     ]
    },
    {
     "data": {
      "application/vnd.jupyter.widget-view+json": {
       "model_id": "a3df3a31071c4e8c85a04cc7702b1922"
      }
     },
     "metadata": {},
     "output_type": "display_data"
    },
    {
     "name": "stderr",
     "output_type": "stream",
     "text": [
      "Widget Javascript not detected.  It may not be installed or enabled properly.\n"
     ]
    },
    {
     "data": {
      "application/vnd.jupyter.widget-view+json": {
       "model_id": "eb162aa26f034f9e85d626b69f2701ef"
      }
     },
     "metadata": {},
     "output_type": "display_data"
    }
   ],
   "source": [
    "#                                         single cell for select, open and transpose:\n",
    "#                                         target directory set for docker run -v `pwd`:...   ==  mount user data\n",
    "target_dir = '../../'\n",
    "\n",
    "import warnings\n",
    "warnings.filterwarnings('ignore')\n",
    "\n",
    "import os\n",
    "import sys\n",
    "import pandas as pd\n",
    "import numpy as np\n",
    "\n",
    "from IPython.display import display\n",
    "import ipywidgets as widgets\n",
    "\n",
    "#                                         local function to read files and get common samples and write:\n",
    "def get_cluster_averages(obie_jobie):\n",
    "    if len(my_file_list) == 0 or my_file_list[0] == 'No Data':\n",
    "        return\n",
    "    \n",
    "    file_name_1 = os.path.join(target_dir, flistbx_1.value)\n",
    "    file_name_2 = os.path.join(target_dir, flistbx_2.value)\n",
    "\n",
    "    spreadsheet_df = pd.read_csv(file_name_1, sep='\\t', index_col=0, header=0)\n",
    "    labels_df = pd.read_csv(file_name_2, sep='\\t', index_col=0, names=['sample','cluster_number'])\n",
    "    labels_dict = labels_df.to_dict()['cluster_number']\n",
    "    cluster_numbers = list(np.unique(list(labels_dict.values())))\n",
    "    labels = list(labels_dict.values())\n",
    "    # labels == i is a boolean list\n",
    "    cluster_ave_df = pd.DataFrame({i: spreadsheet_df.iloc[:, labels == i].mean(axis=1) for i in cluster_numbers})\n",
    "    name_base_1, file_extension_1 = os.path.splitext(file_name_1)\n",
    "    # print(os.path.basename(name_base_2))\n",
    "    # print(os.path.relpath(name_base_2,start=target_dir))\n",
    "    outfile_name = name_base_1 + '_Clst_Avg.tsv'\n",
    "    cluster_ave_df.to_csv(outfile_name, sep='\\t', index=True, header=True)\n",
    "    print('Output written to\\n', outfile_name)\n",
    "\n",
    "#                                         Get list of (docker run -v) mounted files:\n",
    "flist = os.listdir(target_dir)\n",
    "FEXT = ['.tsv', '.txt', '.df']\n",
    "my_file_list = []\n",
    "for f in flist:\n",
    "    if os.path.isfile(os.path.join(target_dir, f)):\n",
    "        noNeed, f_ext = os.path.splitext(f)\n",
    "        if f_ext in FEXT:\n",
    "            my_file_list.append(f)\n",
    "\n",
    "#                                         (docker run -v) mounted files was empty:\n",
    "if len(my_file_list) <= 0:\n",
    "    my_file_list.append('No Data')\n",
    "\n",
    "#                                         Create and display the widget controls:\n",
    "flistbx_1 = widgets.Dropdown(\n",
    "    options=my_file_list,\n",
    "    value=my_file_list[0],\n",
    "    description='Select Spreadsheet File:'\n",
    ")\n",
    "display(flistbx_1)\n",
    "\n",
    "flistbx_2 = widgets.Dropdown(\n",
    "    options=my_file_list,\n",
    "    value=my_file_list[0],\n",
    "    description='Select Dictionary File:'\n",
    ")\n",
    "display(flistbx_2)\n",
    "\n",
    "output_file_button = widgets.Button(\n",
    "    description='Get Cluster Averages',\n",
    "    disabled=False,\n",
    "    button_style='',\n",
    "    tooltip='get cluster averages button',\n",
    "    data_file_key='output_file_name'\n",
    "    )\n",
    "output_file_button.on_click(get_cluster_averages)\n",
    "display(output_file_button)\n"
   ]
  },
  {
   "cell_type": "markdown",
   "metadata": {},
   "source": [
    "# Spreadsheet - select_categorical \n",
    "\n",
    "### From a genes x samples spreadsheet and a samples x phenotypes spreadsheet, return both spreadsheets with only the samples corresponding to a category in a phenotype: \n",
    "* **Select your genes x samples spreadsheet and samples x phenotypes spreadsheet respectively from the \"Select G x S File\" and \"Select S x P File\" dropdown listboxes below, and then select the phenotype id and select category from the next 2 dropdown listboxes.**\n",
    "* **Press the \"Select Categorical\" button and the 2 spreadsheets with only the samples corresponding to a category in a phenotype will be written to 2 input files by the same names of those 2 files with \"_Slct_Ctg\" appended in the same directory of the input files.**"
   ]
  },
  {
   "cell_type": "code",
   "execution_count": 11,
   "metadata": {},
   "outputs": [
    {
     "data": {
      "text/html": [
       "<style>\n",
       "div.input {\n",
       "    display:none;\n",
       "}\n",
       "div.output_stderr{\n",
       "    display:none\n",
       "}\n",
       "</style>"
      ],
      "text/plain": [
       "<IPython.core.display.HTML object>"
      ]
     },
     "metadata": {},
     "output_type": "display_data"
    }
   ],
   "source": [
    "%%html\n",
    "<style>\n",
    "div.input {\n",
    "    display:none;\n",
    "}\n",
    "div.output_stderr{\n",
    "    display:none\n",
    "}\n",
    "</style>"
   ]
  },
  {
   "cell_type": "code",
   "execution_count": 12,
   "metadata": {},
   "outputs": [
    {
     "name": "stderr",
     "output_type": "stream",
     "text": [
      "Widget Javascript not detected.  It may not be installed or enabled properly.\n"
     ]
    },
    {
     "data": {
      "application/vnd.jupyter.widget-view+json": {
       "model_id": "a1cb81127662429e8a6561efb2dbd830"
      }
     },
     "metadata": {},
     "output_type": "display_data"
    },
    {
     "name": "stderr",
     "output_type": "stream",
     "text": [
      "Widget Javascript not detected.  It may not be installed or enabled properly.\n"
     ]
    },
    {
     "data": {
      "application/vnd.jupyter.widget-view+json": {
       "model_id": "2f2012cabb6e4116a3a89d9f89bd3fe9"
      }
     },
     "metadata": {},
     "output_type": "display_data"
    },
    {
     "name": "stderr",
     "output_type": "stream",
     "text": [
      "Widget Javascript not detected.  It may not be installed or enabled properly.\n"
     ]
    },
    {
     "data": {
      "application/vnd.jupyter.widget-view+json": {
       "model_id": "70d8665e6e6d466db85d582f460a09f4"
      }
     },
     "metadata": {},
     "output_type": "display_data"
    },
    {
     "name": "stderr",
     "output_type": "stream",
     "text": [
      "Widget Javascript not detected.  It may not be installed or enabled properly.\n"
     ]
    },
    {
     "data": {
      "application/vnd.jupyter.widget-view+json": {
       "model_id": "6363f10b2ccf417bad5fac79d1134c35"
      }
     },
     "metadata": {},
     "output_type": "display_data"
    },
    {
     "name": "stderr",
     "output_type": "stream",
     "text": [
      "Widget Javascript not detected.  It may not be installed or enabled properly.\n"
     ]
    },
    {
     "data": {
      "application/vnd.jupyter.widget-view+json": {
       "model_id": "9bd702f290054c6cb7a4435297e90b39"
      }
     },
     "metadata": {},
     "output_type": "display_data"
    }
   ],
   "source": [
    "#                                         single cell for select, open and select categorical:\n",
    "#                                         target directory set for docker run -v `pwd`:...   ==  mount user data\n",
    "target_dir = '../../'\n",
    "\n",
    "import warnings\n",
    "warnings.filterwarnings('ignore')\n",
    "\n",
    "import os\n",
    "import sys\n",
    "import pandas as pd\n",
    "import numpy\n",
    "\n",
    "from IPython.display import display\n",
    "import ipywidgets as widgets\n",
    "\n",
    "#                                         local function to read files and select categorical and write:\n",
    "def select_categorical(obie_jobie):\n",
    "    if len(my_file_list) == 0 or my_file_list[0] == 'No Data':\n",
    "        return\n",
    "    \n",
    "    file_name_1 = os.path.join(target_dir, flistbx_1.value)\n",
    "    file_name_2 = os.path.join(target_dir, flistbx_2.value)\n",
    "    spreadsheet_df = pd.read_csv(file_name_1, sep='\\t', index_col=0, header=0)\n",
    "    phenotype_df = pd.read_csv(file_name_2, sep='\\t', index_col=0, header=0)\n",
    "    phenotype_id = flistbx_3.value\n",
    "    select_category = flistbx_4.value\n",
    "    samples_list = phenotype_df.index[phenotype_df[phenotype_id] == select_category]\n",
    "    #print(phenotype_df.index)\n",
    "    # print(phenotype_df[phenotype_id][2])\n",
    "    # print(samples_list)\n",
    "    phenotype_category_df = phenotype_df.loc[samples_list]\n",
    "    spreadsheet_category_df = spreadsheet_df[samples_list]\n",
    "    \n",
    "    name_base_1, file_extension_1 = os.path.splitext(file_name_1)\n",
    "    outfile_name_1 = name_base_1 + '_Slct_Ctg.tsv'\n",
    "    name_base_2, file_extension_2 = os.path.splitext(file_name_2)\n",
    "    outfile_name_2 = name_base_2 + '_Slct_Ctg.tsv'\n",
    "    spreadsheet_category_df.to_csv(outfile_name_1, sep='\\t', index=True, header=True)\n",
    "    phenotype_category_df.to_csv(outfile_name_2, sep='\\t', index=True, header=True)\n",
    "    print('Outputs written to\\n', outfile_name_1,'\\nand\\n',outfile_name_2)\n",
    "\n",
    "#                                         Get list of (docker run -v) mounted files:\n",
    "flist = os.listdir(target_dir)\n",
    "FEXT = ['.tsv', '.txt', '.df']\n",
    "my_file_list = []\n",
    "for f in flist:\n",
    "    if os.path.isfile(os.path.join(target_dir, f)):\n",
    "        noNeed, f_ext = os.path.splitext(f)\n",
    "        if f_ext in FEXT:\n",
    "            my_file_list.append(f)\n",
    "\n",
    "#                                         (docker run -v) mounted files was empty:\n",
    "if len(my_file_list) <= 0:\n",
    "    my_file_list.append('No Data')\n",
    "    \n",
    "    \n",
    "def all_phenotypes(file_rel_path):\n",
    "    \"\"\"get all the phenotypes, i.e. column names, of the samples x phenotypes dataframe, \n",
    " which is read from the file_rel_path file \"\"\"\n",
    "    try:\n",
    "        phenotype_df = pd.read_csv(os.path.join(target_dir,file_rel_path), sep='\\t', index_col=0, header=0)\n",
    "        return list(phenotype_df.columns)\n",
    "    except:\n",
    "        return ['No Data or Invalid File']\n",
    "\n",
    "\n",
    "def nan_unique(x):\n",
    "    \"\"\"a wrapper of the numpy.unique function that handles the NaN problem, \n",
    "    since numpy.unique will return multiple NaN's\"\"\"\n",
    "    a = numpy.unique(x)\n",
    "    r = []\n",
    "    has_nan = False\n",
    "    for i in a:\n",
    "        if isinstance(i,float) and numpy.isnan(i):\n",
    "            if has_nan: \n",
    "                continue\n",
    "            else:\n",
    "                has_nan = True\n",
    "                r.append(i)\n",
    "        else:\n",
    "            r.append(i)\n",
    "    return numpy.array(r)\n",
    "\n",
    "def all_categories(file_rel_path,phenotype_id):\n",
    "    \"\"\"get all the categories, i.e. the values, of a specfic phenotype, \n",
    "    in the dataframe read from file_rel_path file\"\"\"\n",
    "    try:\n",
    "        phenotype_df = pd.read_csv(os.path.join(target_dir,file_rel_path), sep='\\t', index_col=0, header=0)\n",
    "        # print(list(np.unique(phenotype_df[phenotype_id])))\n",
    "        return list(nan_unique(phenotype_df[phenotype_id]))\n",
    "    except:\n",
    "        return ['No Data or Invalid File']\n",
    "\n",
    "#                                         Create and display the widget controls:\n",
    "flistbx_1 = widgets.Dropdown(\n",
    "    options=my_file_list,\n",
    "    value=my_file_list[0],\n",
    "    description='Select G x S File:'\n",
    ")\n",
    "\n",
    "flistbx_2 = widgets.Dropdown(\n",
    "    options=my_file_list,\n",
    "    value=my_file_list[0],\n",
    "    description='Select S x P File:'\n",
    ")\n",
    "\n",
    "flistbx_3 = widgets.Dropdown(\n",
    "    options=all_phenotypes(my_file_list[0]),\n",
    "    value=all_phenotypes(my_file_list[0])[0],\n",
    "    description='Select Phenotype Id:'\n",
    ")\n",
    "\n",
    "flistbx_4 = widgets.Dropdown(\n",
    "    options=all_categories(my_file_list[0],flistbx_3.value),\n",
    "    value=all_categories(my_file_list[0],flistbx_3.value)[0],\n",
    "    description='Select Select Category:'\n",
    ")\n",
    "\n",
    "def handle_file_change(change):\n",
    "    \"\"\"the callback registered to handle changes in the 'value' \n",
    "    attribute of widget 'flist_2'\"\"\"\n",
    "    flistbx_3.options = all_phenotypes(change['new']) \n",
    "    flistbx_3.value = all_phenotypes(change['new'])[0]\n",
    "    flistbx_4.options = all_categories(change['new'],flistbx_3.value)\n",
    "    flistbx_4.value = all_categories(change['new'],flistbx_3.value)[0]\n",
    "\n",
    "flistbx_2.observe(handle_file_change, names='value')\n",
    "\n",
    "\n",
    "def handle_phenotype_change(change):\n",
    "    \"\"\"the callback registered to handle changes in the 'value' \n",
    "    attribute of widget 'flist_3'\"\"\"\n",
    "    flistbx_4.options = all_categories(flistbx_2.value,change['new'])\n",
    "    flistbx_4.value = all_categories(flistbx_2.value,change['new'])[0]\n",
    "\n",
    "flistbx_3.observe(handle_phenotype_change, names='value')\n",
    "\n",
    "display(flistbx_1, flistbx_2, flistbx_3, flistbx_4)\n",
    "\n",
    "output_file_button = widgets.Button(\n",
    "    description='Select Categorical',\n",
    "    disabled=False,\n",
    "    button_style='',\n",
    "    tooltip='select categorical button',\n",
    "    data_file_key='output_file_name'\n",
    "    )\n",
    "output_file_button.on_click(select_categorical)\n",
    "display(output_file_button)\n"
   ]
  }
 ],
 "metadata": {
  "kernelspec": {
   "display_name": "Python 3",
   "language": "python",
   "name": "python3"
  },
  "language_info": {
   "codemirror_mode": {
    "name": "ipython",
    "version": 3
   },
   "file_extension": ".py",
   "mimetype": "text/x-python",
   "name": "python",
   "nbconvert_exporter": "python",
   "pygments_lexer": "ipython3",
   "version": "3.6.1"
  },
  "varInspector": {
   "cols": {
    "lenName": 16,
    "lenType": 16,
    "lenVar": 40
   },
   "kernels_config": {
    "python": {
     "delete_cmd_postfix": "",
     "delete_cmd_prefix": "del ",
     "library": "var_list.py",
     "varRefreshCmd": "print(var_dic_list())"
    },
    "r": {
     "delete_cmd_postfix": ") ",
     "delete_cmd_prefix": "rm(",
     "library": "var_list.r",
     "varRefreshCmd": "cat(var_dic_list()) "
    }
   },
   "types_to_exclude": [
    "module",
    "function",
    "builtin_function_or_method",
    "instance",
    "_Feature"
   ],
   "window_display": false
  }
 },
 "nbformat": 4,
 "nbformat_minor": 2
}
