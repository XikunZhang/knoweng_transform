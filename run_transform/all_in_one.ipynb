{
 "cells": [
  {
   "cell_type": "markdown",
   "metadata": {},
   "source": [
    "<a id='top'></a>"
   ]
  },
  {
   "cell_type": "markdown",
   "metadata": {},
   "source": [
    "# Spreadsheet Transformations\n",
    "1. [Transpose](#transpose)\n",
    "2. [Common Samples](#common_samples)\n",
    "3. [Merge](#merge)\n",
    "4. [Select Genes](#select_genes)\n",
    "5. [Cluster Averages](#cluster_averages)\n",
    "6. [Select Categorical](#select_categorical)"
   ]
  },
  {
   "cell_type": "markdown",
   "metadata": {},
   "source": [
    "<a id='transpose'></a>"
   ]
  },
  {
   "cell_type": "code",
   "execution_count": 1,
   "metadata": {
    "init_cell": true,
    "run_control": {
     "marked": false
    }
   },
   "outputs": [],
   "source": [
    "# %%html\n",
    "# <style>\n",
    "# div.input {\n",
    "#     display:none;\n",
    "# }\n",
    "# div.output_stderr{\n",
    "#     display:none\n",
    "# }\n",
    "# </style>"
   ]
  },
  {
   "cell_type": "code",
   "execution_count": 2,
   "metadata": {
    "init_cell": true,
    "run_control": {
     "marked": false
    }
   },
   "outputs": [],
   "source": [
    "#                                         single cell for select, open and transpose:\n",
    "#                                         target directory set for docker run -v `pwd`:...   ==  mount user data\n",
    "target_dir = '../../user_data'\n",
    "\n",
    "import warnings\n",
    "warnings.filterwarnings('ignore')\n",
    "\n",
    "import os\n",
    "import sys\n",
    "import pandas as pd\n",
    "import knpackage.toolbox as kn\n",
    "import numpy as np\n",
    "\n",
    "from IPython.display import display, HTML, clear_output\n",
    "import ipywidgets as widgets\n",
    "#                                         Get list of (docker run -v) mounted files:\n",
    "flist = os.listdir(target_dir)\n",
    "FEXT = ['.tsv', '.txt', '.df']\n",
    "my_file_list = []\n",
    "for f in flist:\n",
    "    if os.path.isfile(os.path.join(target_dir, f)):\n",
    "        noNeed, f_ext = os.path.splitext(f)\n",
    "        if f_ext in FEXT:\n",
    "            my_file_list.append(f)\n",
    "\n",
    "#                                         (docker run -v) mounted files was empty:\n",
    "if len(my_file_list) <= 0:\n",
    "    my_file_list.append('No Data')"
   ]
  },
  {
   "cell_type": "markdown",
   "metadata": {},
   "source": [
    "### Note: \n",
    "#### View a file:\n",
    "* **Select your spreadsheet file from the \"Select File\" dropdown listbox below.**\n",
    "* **Press the \"Visualize\" button and the spreadsheet (or the upper-left part if it is too large) will be displayed.**"
   ]
  },
  {
   "cell_type": "code",
   "execution_count": 3,
   "metadata": {
    "init_cell": true
   },
   "outputs": [],
   "source": [
    "#                                         local function to open and Visualize:\n",
    "def visualize_selected_file(button):\n",
    "    \"\"\"\"\"\"\n",
    "    clear_output()\n",
    "    try:\n",
    "        if hasattr(button, 'fname_list'): \n",
    "            full_fname_list = button.fname_list\n",
    "        else: \n",
    "            full_fname = os.path.join(target_dir, button.dropdown_box.value)\n",
    "            full_fname_list = [full_fname]\n",
    "        for full_fname in full_fname_list: \n",
    "            pheno_df = pd.read_csv(full_fname,sep='\\t',header=0,index_col=0)\n",
    "            Step = pheno_df.iloc[0:10,0:10];\n",
    "            Step2 = HTML(Step.to_html())\n",
    "            display(Step2)\n",
    "        \n",
    "    except OSError:\n",
    "        print(\"No data to visualize! \")\n",
    "        \n",
    "def clear(change):\n",
    "    clear_output()"
   ]
  },
  {
   "cell_type": "markdown",
   "metadata": {},
   "source": [
    "<a id='transpose'></a>"
   ]
  },
  {
   "cell_type": "markdown",
   "metadata": {},
   "source": [
    "## Transpose [[back to top]](#top) \n",
    "\n",
    "### Transpose a file:\n",
    "* **Select your spreadsheet file from the \"Select File\" dropdown listbox below.**\n",
    "* **Press the \"Transpose\" button and the transposed spreadsheet will be written to a file by the same name of the input file with \"_T\" appended in the same directory of the input file.**"
   ]
  },
  {
   "cell_type": "code",
   "execution_count": 4,
   "metadata": {
    "init_cell": true
   },
   "outputs": [
    {
     "name": "stderr",
     "output_type": "stream",
     "text": [
      "Widget Javascript not detected.  It may not be installed or enabled properly.\n"
     ]
    },
    {
     "data": {
      "application/vnd.jupyter.widget-view+json": {
       "model_id": "e09e82e4b0024934aae771c3dc6b7255"
      }
     },
     "metadata": {},
     "output_type": "display_data"
    },
    {
     "name": "stderr",
     "output_type": "stream",
     "text": [
      "Widget Javascript not detected.  It may not be installed or enabled properly.\n"
     ]
    },
    {
     "data": {
      "application/vnd.jupyter.widget-view+json": {
       "model_id": "511bf5ef1ff44811a7de6af94a996666"
      }
     },
     "metadata": {},
     "output_type": "display_data"
    },
    {
     "name": "stderr",
     "output_type": "stream",
     "text": [
      "Widget Javascript not detected.  It may not be installed or enabled properly.\n"
     ]
    },
    {
     "data": {
      "application/vnd.jupyter.widget-view+json": {
       "model_id": "6bce1b5dc63049daa491c975dcb48658"
      }
     },
     "metadata": {},
     "output_type": "display_data"
    }
   ],
   "source": [
    "#                                         local function to open and transpose:\n",
    "def transpose_selected_file(button):\n",
    "    if len(my_file_list) == 0 or my_file_list[0] == 'No Data':\n",
    "        return\n",
    "    \n",
    "    file_name = os.path.join(target_dir, flistbx.value)\n",
    "    spreadsheet_df = pd.read_csv(file_name, sep='\\t', index_col=0, header=0)\n",
    "    spreadsheet_df = spreadsheet_df.transpose()\n",
    "    name_base, file_extension = os.path.splitext(file_name)\n",
    "    outfile_name = name_base + '_T.tsv'\n",
    "    spreadsheet_df.to_csv(outfile_name, sep='\\t')\n",
    "    print('Output written to\\n', outfile_name)\n",
    "    button.fname_list = [outfile_name]\n",
    "    visualize_selected_file(button)\n",
    "\n",
    "\n",
    "#                                         Create and display the widget controls:\n",
    "flistbx = widgets.Dropdown(\n",
    "    options=my_file_list,\n",
    "    value=my_file_list[0],\n",
    "    description='Select File:'\n",
    ")\n",
    "display(flistbx)\n",
    "\n",
    "visualize_file_button = widgets.Button(\n",
    "    description='Visualize',\n",
    "    disabled=False,\n",
    "    button_style='',\n",
    "    tooltip='file to visulaize',\n",
    "    dropdown_box=flistbx\n",
    "    )\n",
    "visualize_file_button.on_click(visualize_selected_file)\n",
    "display(visualize_file_button)\n",
    "\n",
    "output_file_button = widgets.Button(\n",
    "    description='Transpose',\n",
    "    disabled=False,\n",
    "    button_style='',\n",
    "    tooltip='file to transpose',\n",
    "    data_file_key='output_file_name'\n",
    "    )\n",
    "output_file_button.on_click(transpose_selected_file)\n",
    "display(output_file_button)"
   ]
  },
  {
   "cell_type": "markdown",
   "metadata": {},
   "source": [
    "<a id='common_samples'></a>"
   ]
  },
  {
   "cell_type": "markdown",
   "metadata": {
    "collapsed": true
   },
   "source": [
    "## Common Samples [[back to top]](#top)\n",
    "\n",
    "### Return the subsets of two spreadsheets with only common samples of 2 spreadsheets: \n",
    "* **Select your two samples x phenotypes spreadsheet files respectively from the \"Select File 1\" and \"Select File 2\" dropdown listboxes below.**\n",
    "* **Press the \"Get Common Samples\" button and the corresponding subsets of the spreadsheets with only common samples of 2 spreadsheets will be written to 2 files by the same names of 2 input files with \"_Com\" appended respectively in the same directory of the input files.**"
   ]
  },
  {
   "cell_type": "code",
   "execution_count": 5,
   "metadata": {
    "init_cell": true
   },
   "outputs": [
    {
     "data": {
      "text/html": [
       "<table border=\"1\" class=\"dataframe\">\n",
       "  <thead>\n",
       "    <tr style=\"text-align: right;\">\n",
       "      <th></th>\n",
       "      <th>ICDO3site</th>\n",
       "      <th>stage</th>\n",
       "      <th>stage_simple</th>\n",
       "      <th>stage_ismeta</th>\n",
       "      <th>grade</th>\n",
       "      <th>grade_simple</th>\n",
       "      <th>residual</th>\n",
       "    </tr>\n",
       "    <tr>\n",
       "      <th>sample_id</th>\n",
       "      <th></th>\n",
       "      <th></th>\n",
       "      <th></th>\n",
       "      <th></th>\n",
       "      <th></th>\n",
       "      <th></th>\n",
       "      <th></th>\n",
       "    </tr>\n",
       "  </thead>\n",
       "  <tbody>\n",
       "    <tr>\n",
       "      <th>TCGA-A5-A0G1</th>\n",
       "      <td>c54.1</td>\n",
       "      <td>stage ia</td>\n",
       "      <td>i</td>\n",
       "      <td>0</td>\n",
       "      <td>grade 3</td>\n",
       "      <td>High Grade</td>\n",
       "      <td>r0</td>\n",
       "    </tr>\n",
       "    <tr>\n",
       "      <th>TCGA-A5-A0G3</th>\n",
       "      <td>c54.1</td>\n",
       "      <td>stage iiic2</td>\n",
       "      <td>iii</td>\n",
       "      <td>0</td>\n",
       "      <td>grade 3</td>\n",
       "      <td>High Grade</td>\n",
       "      <td>r0</td>\n",
       "    </tr>\n",
       "    <tr>\n",
       "      <th>TCGA-A5-A0G5</th>\n",
       "      <td>c54.1</td>\n",
       "      <td>stage ib</td>\n",
       "      <td>i</td>\n",
       "      <td>0</td>\n",
       "      <td>grade 3</td>\n",
       "      <td>High Grade</td>\n",
       "      <td>r0</td>\n",
       "    </tr>\n",
       "    <tr>\n",
       "      <th>TCGA-A5-A0GA</th>\n",
       "      <td>c54.1</td>\n",
       "      <td>stage iiic2</td>\n",
       "      <td>iii</td>\n",
       "      <td>0</td>\n",
       "      <td>grade 3</td>\n",
       "      <td>High Grade</td>\n",
       "      <td>r0</td>\n",
       "    </tr>\n",
       "    <tr>\n",
       "      <th>TCGA-A5-A0GB</th>\n",
       "      <td>c54.1</td>\n",
       "      <td>stage ib</td>\n",
       "      <td>i</td>\n",
       "      <td>0</td>\n",
       "      <td>grade 3</td>\n",
       "      <td>High Grade</td>\n",
       "      <td>r0</td>\n",
       "    </tr>\n",
       "    <tr>\n",
       "      <th>TCGA-A5-A0GD</th>\n",
       "      <td>c54.1</td>\n",
       "      <td>stage ia</td>\n",
       "      <td>i</td>\n",
       "      <td>0</td>\n",
       "      <td>grade 2</td>\n",
       "      <td>Low grade (1,2)</td>\n",
       "      <td>r0</td>\n",
       "    </tr>\n",
       "    <tr>\n",
       "      <th>TCGA-A5-A0GE</th>\n",
       "      <td>c54.1</td>\n",
       "      <td>stage ia</td>\n",
       "      <td>i</td>\n",
       "      <td>0</td>\n",
       "      <td>grade 2</td>\n",
       "      <td>Low grade (1,2)</td>\n",
       "      <td>r0</td>\n",
       "    </tr>\n",
       "    <tr>\n",
       "      <th>TCGA-A5-A0GG</th>\n",
       "      <td>c54.1</td>\n",
       "      <td>stage ia</td>\n",
       "      <td>i</td>\n",
       "      <td>0</td>\n",
       "      <td>grade 1</td>\n",
       "      <td>Low grade (1,2)</td>\n",
       "      <td>r0</td>\n",
       "    </tr>\n",
       "    <tr>\n",
       "      <th>TCGA-A5-A0GH</th>\n",
       "      <td>c54.1</td>\n",
       "      <td>stage ia</td>\n",
       "      <td>i</td>\n",
       "      <td>0</td>\n",
       "      <td>grade 3</td>\n",
       "      <td>High Grade</td>\n",
       "      <td>r0</td>\n",
       "    </tr>\n",
       "    <tr>\n",
       "      <th>TCGA-A5-A0GI</th>\n",
       "      <td>c54.1</td>\n",
       "      <td>stage ia</td>\n",
       "      <td>i</td>\n",
       "      <td>0</td>\n",
       "      <td>grade 2</td>\n",
       "      <td>Low grade (1,2)</td>\n",
       "      <td>r0</td>\n",
       "    </tr>\n",
       "  </tbody>\n",
       "</table>"
      ],
      "text/plain": [
       "<IPython.core.display.HTML object>"
      ]
     },
     "metadata": {},
     "output_type": "display_data"
    }
   ],
   "source": [
    "#                                         local function to read files and get common samples and write:\n",
    "def get_common_samples(button):\n",
    "    if len(my_file_list) == 0 or my_file_list[0] == 'No Data':\n",
    "        return\n",
    "    \n",
    "    file_name_1 = os.path.join(target_dir, flistbx_2.value)\n",
    "    file_name_2 = os.path.join(target_dir, flistbx_3.value)\n",
    "    sxp_1_df = pd.read_csv(file_name_1, sep='\\t', index_col=0, header=0)\n",
    "    sxp_2_df = pd.read_csv(file_name_2, sep='\\t', index_col=0, header=0)\n",
    "    sxp_1_gene_names = kn.extract_spreadsheet_gene_names(sxp_1_df)\n",
    "    sxp_2_gene_names = kn.extract_spreadsheet_gene_names(sxp_2_df)\n",
    "    common_samples_list = kn.find_common_node_names(sxp_1_gene_names, sxp_2_gene_names)\n",
    "    sxp_1_trim_df,sxp_2_trim_df = sxp_1_df.loc[common_samples_list], sxp_2_df.loc[common_samples_list]\n",
    "    name_base_1, file_extension_1 = os.path.splitext(file_name_1)\n",
    "    outfile_name_1 = name_base_1 + '_Com.tsv'\n",
    "    name_base_2, file_extension_2 = os.path.splitext(file_name_2)\n",
    "    outfile_name_2 = name_base_2 + '_Com.tsv'\n",
    "    sxp_1_trim_df.to_csv(outfile_name_1, sep='\\t', index=True, header=True)\n",
    "    sxp_2_trim_df.to_csv(outfile_name_2, sep='\\t', index=True, header=True)\n",
    "    print('Outputs written to\\n', outfile_name_1,'\\nand\\n',outfile_name_2)\n",
    "    button.fname_list = [outfile_name_1, outfile_name_2]\n",
    "    visualize_selected_file(button)\n",
    "\n",
    "\n",
    "#                                         Create and display the widget controls:\n",
    "flistbx_2 = widgets.Dropdown(\n",
    "    options=my_file_list,\n",
    "    value=my_file_list[0],\n",
    "    description='Select File 1:'\n",
    ")\n",
    "display(flistbx_2)\n",
    "flistbx_2.observe(clear, names='value')\n",
    "\n",
    "visualize_file_button_2 = widgets.Button(\n",
    "    description='Visualize',\n",
    "    disabled=False,\n",
    "    button_style='',\n",
    "    tooltip='file to visulaize',\n",
    "    dropdown_box=flistbx_2\n",
    "    )\n",
    "display(visualize_file_button_2)\n",
    "visualize_file_button_2.on_click(visualize_selected_file)\n"
   ]
  },
  {
   "cell_type": "code",
   "execution_count": 6,
   "metadata": {},
   "outputs": [
    {
     "data": {
      "text/html": [
       "<table border=\"1\" class=\"dataframe\">\n",
       "  <thead>\n",
       "    <tr style=\"text-align: right;\">\n",
       "      <th></th>\n",
       "      <th>ICDO3site</th>\n",
       "      <th>stage</th>\n",
       "      <th>stage_simple</th>\n",
       "      <th>stage_ismeta</th>\n",
       "      <th>grade</th>\n",
       "      <th>grade_simple</th>\n",
       "      <th>residual</th>\n",
       "    </tr>\n",
       "    <tr>\n",
       "      <th>sample_id</th>\n",
       "      <th></th>\n",
       "      <th></th>\n",
       "      <th></th>\n",
       "      <th></th>\n",
       "      <th></th>\n",
       "      <th></th>\n",
       "      <th></th>\n",
       "    </tr>\n",
       "  </thead>\n",
       "  <tbody>\n",
       "    <tr>\n",
       "      <th>TCGA-A5-A0G1</th>\n",
       "      <td>c54.1</td>\n",
       "      <td>stage ia</td>\n",
       "      <td>i</td>\n",
       "      <td>0</td>\n",
       "      <td>grade 3</td>\n",
       "      <td>High Grade</td>\n",
       "      <td>r0</td>\n",
       "    </tr>\n",
       "    <tr>\n",
       "      <th>TCGA-A5-A0G3</th>\n",
       "      <td>c54.1</td>\n",
       "      <td>stage iiic2</td>\n",
       "      <td>iii</td>\n",
       "      <td>0</td>\n",
       "      <td>grade 3</td>\n",
       "      <td>High Grade</td>\n",
       "      <td>r0</td>\n",
       "    </tr>\n",
       "    <tr>\n",
       "      <th>TCGA-A5-A0G5</th>\n",
       "      <td>c54.1</td>\n",
       "      <td>stage ib</td>\n",
       "      <td>i</td>\n",
       "      <td>0</td>\n",
       "      <td>grade 3</td>\n",
       "      <td>High Grade</td>\n",
       "      <td>r0</td>\n",
       "    </tr>\n",
       "    <tr>\n",
       "      <th>TCGA-A5-A0GA</th>\n",
       "      <td>c54.1</td>\n",
       "      <td>stage iiic2</td>\n",
       "      <td>iii</td>\n",
       "      <td>0</td>\n",
       "      <td>grade 3</td>\n",
       "      <td>High Grade</td>\n",
       "      <td>r0</td>\n",
       "    </tr>\n",
       "    <tr>\n",
       "      <th>TCGA-A5-A0GB</th>\n",
       "      <td>c54.1</td>\n",
       "      <td>stage ib</td>\n",
       "      <td>i</td>\n",
       "      <td>0</td>\n",
       "      <td>grade 3</td>\n",
       "      <td>High Grade</td>\n",
       "      <td>r0</td>\n",
       "    </tr>\n",
       "    <tr>\n",
       "      <th>TCGA-A5-A0GD</th>\n",
       "      <td>c54.1</td>\n",
       "      <td>stage ia</td>\n",
       "      <td>i</td>\n",
       "      <td>0</td>\n",
       "      <td>grade 2</td>\n",
       "      <td>Low grade (1,2)</td>\n",
       "      <td>r0</td>\n",
       "    </tr>\n",
       "    <tr>\n",
       "      <th>TCGA-A5-A0GE</th>\n",
       "      <td>c54.1</td>\n",
       "      <td>stage ia</td>\n",
       "      <td>i</td>\n",
       "      <td>0</td>\n",
       "      <td>grade 2</td>\n",
       "      <td>Low grade (1,2)</td>\n",
       "      <td>r0</td>\n",
       "    </tr>\n",
       "    <tr>\n",
       "      <th>TCGA-A5-A0GG</th>\n",
       "      <td>c54.1</td>\n",
       "      <td>stage ia</td>\n",
       "      <td>i</td>\n",
       "      <td>0</td>\n",
       "      <td>grade 1</td>\n",
       "      <td>Low grade (1,2)</td>\n",
       "      <td>r0</td>\n",
       "    </tr>\n",
       "    <tr>\n",
       "      <th>TCGA-A5-A0GH</th>\n",
       "      <td>c54.1</td>\n",
       "      <td>stage ia</td>\n",
       "      <td>i</td>\n",
       "      <td>0</td>\n",
       "      <td>grade 3</td>\n",
       "      <td>High Grade</td>\n",
       "      <td>r0</td>\n",
       "    </tr>\n",
       "    <tr>\n",
       "      <th>TCGA-A5-A0GI</th>\n",
       "      <td>c54.1</td>\n",
       "      <td>stage ia</td>\n",
       "      <td>i</td>\n",
       "      <td>0</td>\n",
       "      <td>grade 2</td>\n",
       "      <td>Low grade (1,2)</td>\n",
       "      <td>r0</td>\n",
       "    </tr>\n",
       "  </tbody>\n",
       "</table>"
      ],
      "text/plain": [
       "<IPython.core.display.HTML object>"
      ]
     },
     "metadata": {},
     "output_type": "display_data"
    }
   ],
   "source": [
    "flistbx_3 = widgets.Dropdown(\n",
    "    options=my_file_list,\n",
    "    value=my_file_list[0],\n",
    "    description='Select File 2:'\n",
    ")\n",
    "display(flistbx_3)\n",
    "flistbx_3.observe(clear, names='value')\n",
    "\n",
    "visualize_file_button_3 = widgets.Button(\n",
    "    description='Visualize',\n",
    "    disabled=False,\n",
    "    button_style='',\n",
    "    tooltip='file to visulaize',\n",
    "    dropdown_box=flistbx_3\n",
    "    )\n",
    "display(visualize_file_button_3)\n",
    "visualize_file_button_3.on_click(visualize_selected_file)\n"
   ]
  },
  {
   "cell_type": "code",
   "execution_count": 7,
   "metadata": {},
   "outputs": [
    {
     "data": {
      "text/html": [
       "<table border=\"1\" class=\"dataframe\">\n",
       "  <thead>\n",
       "    <tr style=\"text-align: right;\">\n",
       "      <th></th>\n",
       "      <th>days_to_death</th>\n",
       "      <th>days_to_last</th>\n",
       "      <th>days_survival</th>\n",
       "      <th>diag_age</th>\n",
       "      <th>race</th>\n",
       "      <th>ethnicity</th>\n",
       "      <th>gender</th>\n",
       "    </tr>\n",
       "    <tr>\n",
       "      <th>sample_id</th>\n",
       "      <th></th>\n",
       "      <th></th>\n",
       "      <th></th>\n",
       "      <th></th>\n",
       "      <th></th>\n",
       "      <th></th>\n",
       "      <th></th>\n",
       "    </tr>\n",
       "  </thead>\n",
       "  <tbody>\n",
       "    <tr>\n",
       "      <th>TCGA-A5-A0G1</th>\n",
       "      <td>3251.0</td>\n",
       "      <td>NaN</td>\n",
       "      <td>3251</td>\n",
       "      <td>67</td>\n",
       "      <td>white</td>\n",
       "      <td>not hispanic or latino</td>\n",
       "      <td>female</td>\n",
       "    </tr>\n",
       "    <tr>\n",
       "      <th>TCGA-A5-A0G3</th>\n",
       "      <td>NaN</td>\n",
       "      <td>1079.0</td>\n",
       "      <td>1079</td>\n",
       "      <td>61</td>\n",
       "      <td>black or african american</td>\n",
       "      <td>NaN</td>\n",
       "      <td>female</td>\n",
       "    </tr>\n",
       "    <tr>\n",
       "      <th>TCGA-A5-A0G5</th>\n",
       "      <td>NaN</td>\n",
       "      <td>790.0</td>\n",
       "      <td>790</td>\n",
       "      <td>73</td>\n",
       "      <td>black or african american</td>\n",
       "      <td>NaN</td>\n",
       "      <td>female</td>\n",
       "    </tr>\n",
       "    <tr>\n",
       "      <th>TCGA-A5-A0GA</th>\n",
       "      <td>543.0</td>\n",
       "      <td>NaN</td>\n",
       "      <td>543</td>\n",
       "      <td>67</td>\n",
       "      <td>white</td>\n",
       "      <td>not hispanic or latino</td>\n",
       "      <td>female</td>\n",
       "    </tr>\n",
       "    <tr>\n",
       "      <th>TCGA-A5-A0GB</th>\n",
       "      <td>NaN</td>\n",
       "      <td>275.0</td>\n",
       "      <td>275</td>\n",
       "      <td>65</td>\n",
       "      <td>white</td>\n",
       "      <td>NaN</td>\n",
       "      <td>female</td>\n",
       "    </tr>\n",
       "    <tr>\n",
       "      <th>TCGA-A5-A0GE</th>\n",
       "      <td>NaN</td>\n",
       "      <td>2717.0</td>\n",
       "      <td>2717</td>\n",
       "      <td>38</td>\n",
       "      <td>asian</td>\n",
       "      <td>not hispanic or latino</td>\n",
       "      <td>female</td>\n",
       "    </tr>\n",
       "    <tr>\n",
       "      <th>TCGA-A5-A0GG</th>\n",
       "      <td>NaN</td>\n",
       "      <td>2516.0</td>\n",
       "      <td>2516</td>\n",
       "      <td>76</td>\n",
       "      <td>black or african american</td>\n",
       "      <td>not hispanic or latino</td>\n",
       "      <td>female</td>\n",
       "    </tr>\n",
       "    <tr>\n",
       "      <th>TCGA-A5-A0GI</th>\n",
       "      <td>NaN</td>\n",
       "      <td>1750.0</td>\n",
       "      <td>1750</td>\n",
       "      <td>63</td>\n",
       "      <td>white</td>\n",
       "      <td>not hispanic or latino</td>\n",
       "      <td>female</td>\n",
       "    </tr>\n",
       "    <tr>\n",
       "      <th>TCGA-A5-A0GJ</th>\n",
       "      <td>NaN</td>\n",
       "      <td>1447.0</td>\n",
       "      <td>1447</td>\n",
       "      <td>44</td>\n",
       "      <td>white</td>\n",
       "      <td>not hispanic or latino</td>\n",
       "      <td>female</td>\n",
       "    </tr>\n",
       "    <tr>\n",
       "      <th>TCGA-A5-A0GN</th>\n",
       "      <td>NaN</td>\n",
       "      <td>1477.0</td>\n",
       "      <td>1477</td>\n",
       "      <td>65</td>\n",
       "      <td>white</td>\n",
       "      <td>not hispanic or latino</td>\n",
       "      <td>female</td>\n",
       "    </tr>\n",
       "  </tbody>\n",
       "</table>"
      ],
      "text/plain": [
       "<IPython.core.display.HTML object>"
      ]
     },
     "metadata": {},
     "output_type": "display_data"
    },
    {
     "data": {
      "text/html": [
       "<table border=\"1\" class=\"dataframe\">\n",
       "  <thead>\n",
       "    <tr style=\"text-align: right;\">\n",
       "      <th></th>\n",
       "      <th>ICDO3site</th>\n",
       "      <th>stage</th>\n",
       "      <th>stage_simple</th>\n",
       "      <th>stage_ismeta</th>\n",
       "      <th>grade</th>\n",
       "      <th>grade_simple</th>\n",
       "      <th>residual</th>\n",
       "    </tr>\n",
       "    <tr>\n",
       "      <th>sample_id</th>\n",
       "      <th></th>\n",
       "      <th></th>\n",
       "      <th></th>\n",
       "      <th></th>\n",
       "      <th></th>\n",
       "      <th></th>\n",
       "      <th></th>\n",
       "    </tr>\n",
       "  </thead>\n",
       "  <tbody>\n",
       "    <tr>\n",
       "      <th>TCGA-A5-A0G1</th>\n",
       "      <td>c54.1</td>\n",
       "      <td>stage ia</td>\n",
       "      <td>i</td>\n",
       "      <td>0</td>\n",
       "      <td>grade 3</td>\n",
       "      <td>High Grade</td>\n",
       "      <td>r0</td>\n",
       "    </tr>\n",
       "    <tr>\n",
       "      <th>TCGA-A5-A0G3</th>\n",
       "      <td>c54.1</td>\n",
       "      <td>stage iiic2</td>\n",
       "      <td>iii</td>\n",
       "      <td>0</td>\n",
       "      <td>grade 3</td>\n",
       "      <td>High Grade</td>\n",
       "      <td>r0</td>\n",
       "    </tr>\n",
       "    <tr>\n",
       "      <th>TCGA-A5-A0G5</th>\n",
       "      <td>c54.1</td>\n",
       "      <td>stage ib</td>\n",
       "      <td>i</td>\n",
       "      <td>0</td>\n",
       "      <td>grade 3</td>\n",
       "      <td>High Grade</td>\n",
       "      <td>r0</td>\n",
       "    </tr>\n",
       "    <tr>\n",
       "      <th>TCGA-A5-A0GA</th>\n",
       "      <td>c54.1</td>\n",
       "      <td>stage iiic2</td>\n",
       "      <td>iii</td>\n",
       "      <td>0</td>\n",
       "      <td>grade 3</td>\n",
       "      <td>High Grade</td>\n",
       "      <td>r0</td>\n",
       "    </tr>\n",
       "    <tr>\n",
       "      <th>TCGA-A5-A0GB</th>\n",
       "      <td>c54.1</td>\n",
       "      <td>stage ib</td>\n",
       "      <td>i</td>\n",
       "      <td>0</td>\n",
       "      <td>grade 3</td>\n",
       "      <td>High Grade</td>\n",
       "      <td>r0</td>\n",
       "    </tr>\n",
       "    <tr>\n",
       "      <th>TCGA-A5-A0GE</th>\n",
       "      <td>c54.1</td>\n",
       "      <td>stage ia</td>\n",
       "      <td>i</td>\n",
       "      <td>0</td>\n",
       "      <td>grade 2</td>\n",
       "      <td>Low grade (1,2)</td>\n",
       "      <td>r0</td>\n",
       "    </tr>\n",
       "    <tr>\n",
       "      <th>TCGA-A5-A0GG</th>\n",
       "      <td>c54.1</td>\n",
       "      <td>stage ia</td>\n",
       "      <td>i</td>\n",
       "      <td>0</td>\n",
       "      <td>grade 1</td>\n",
       "      <td>Low grade (1,2)</td>\n",
       "      <td>r0</td>\n",
       "    </tr>\n",
       "    <tr>\n",
       "      <th>TCGA-A5-A0GI</th>\n",
       "      <td>c54.1</td>\n",
       "      <td>stage ia</td>\n",
       "      <td>i</td>\n",
       "      <td>0</td>\n",
       "      <td>grade 2</td>\n",
       "      <td>Low grade (1,2)</td>\n",
       "      <td>r0</td>\n",
       "    </tr>\n",
       "    <tr>\n",
       "      <th>TCGA-A5-A0GJ</th>\n",
       "      <td>c54.1</td>\n",
       "      <td>stage ia</td>\n",
       "      <td>i</td>\n",
       "      <td>0</td>\n",
       "      <td>grade 2</td>\n",
       "      <td>Low grade (1,2)</td>\n",
       "      <td>r0</td>\n",
       "    </tr>\n",
       "    <tr>\n",
       "      <th>TCGA-A5-A0GN</th>\n",
       "      <td>c54.1</td>\n",
       "      <td>stage ib</td>\n",
       "      <td>i</td>\n",
       "      <td>0</td>\n",
       "      <td>grade 1</td>\n",
       "      <td>Low grade (1,2)</td>\n",
       "      <td>r0</td>\n",
       "    </tr>\n",
       "  </tbody>\n",
       "</table>"
      ],
      "text/plain": [
       "<IPython.core.display.HTML object>"
      ]
     },
     "metadata": {},
     "output_type": "display_data"
    }
   ],
   "source": [
    "\n",
    "output_file_button_2 = widgets.Button(\n",
    "    description='Get Common Samples',\n",
    "    disabled=False,\n",
    "    button_style='',\n",
    "    tooltip='get common samples button',\n",
    "    data_file_key='output_file_name'\n",
    "    )\n",
    "display(output_file_button_2)\n",
    "output_file_button_2.on_click(get_common_samples)\n",
    "\n",
    "flistbx_2.observe(clear_output, names='values')"
   ]
  },
  {
   "cell_type": "markdown",
   "metadata": {},
   "source": [
    "<a id='merge'></a>"
   ]
  },
  {
   "cell_type": "markdown",
   "metadata": {
    "collapsed": true
   },
   "source": [
    "## Merge [[back to top]](#top)\n",
    "\n",
    "### Combine two spreadsheets into one with all samples and phenotypes (NaN filled): \n",
    "* **Select your two samples x phenotypes spreadsheet files respectively from the \"Select File 1\" and \"Select File 2\" dropdown listboxes below.**\n",
    "* **Press the \"Merge\" button and the union spreadsheet of those 2 spreadsheets will be written to a file by the name of first input file with the name of the second input file and \"_Mrg\" appended in the same directory of the input files.**"
   ]
  },
  {
   "cell_type": "code",
   "execution_count": 8,
   "metadata": {
    "init_cell": true
   },
   "outputs": [
    {
     "name": "stderr",
     "output_type": "stream",
     "text": [
      "Widget Javascript not detected.  It may not be installed or enabled properly.\n"
     ]
    },
    {
     "data": {
      "application/vnd.jupyter.widget-view+json": {
       "model_id": "70926e5d9f824580b5c2eb439300e222"
      }
     },
     "metadata": {},
     "output_type": "display_data"
    },
    {
     "name": "stderr",
     "output_type": "stream",
     "text": [
      "Widget Javascript not detected.  It may not be installed or enabled properly.\n"
     ]
    },
    {
     "data": {
      "application/vnd.jupyter.widget-view+json": {
       "model_id": "3df3ed78592041c994b912e5a9785504"
      }
     },
     "metadata": {},
     "output_type": "display_data"
    },
    {
     "name": "stderr",
     "output_type": "stream",
     "text": [
      "Widget Javascript not detected.  It may not be installed or enabled properly.\n"
     ]
    },
    {
     "data": {
      "application/vnd.jupyter.widget-view+json": {
       "model_id": "c46c351195d7467e962bdc210f13e554"
      }
     },
     "metadata": {},
     "output_type": "display_data"
    },
    {
     "name": "stderr",
     "output_type": "stream",
     "text": [
      "Widget Javascript not detected.  It may not be installed or enabled properly.\n"
     ]
    },
    {
     "data": {
      "application/vnd.jupyter.widget-view+json": {
       "model_id": "008092f55a2249baa47748eaa5dcfea3"
      }
     },
     "metadata": {},
     "output_type": "display_data"
    },
    {
     "name": "stderr",
     "output_type": "stream",
     "text": [
      "Widget Javascript not detected.  It may not be installed or enabled properly.\n"
     ]
    },
    {
     "data": {
      "application/vnd.jupyter.widget-view+json": {
       "model_id": "da5c3cd7e2b741e0a492872654b7d8b4"
      }
     },
     "metadata": {},
     "output_type": "display_data"
    }
   ],
   "source": [
    "#                                         local function to read files and get common samples and write:\n",
    "def merge(button):\n",
    "    if len(my_file_list) == 0 or my_file_list[0] == 'No Data':\n",
    "        return\n",
    "    \n",
    "    file_name_1 = os.path.join(target_dir, flistbx_4.value)\n",
    "    file_name_2 = os.path.join(target_dir, flistbx_5.value)\n",
    "\n",
    "    spreadsheet_1_df = pd.read_csv(file_name_1, sep='\\t', index_col=0, header=0)\n",
    "    spreadsheet_2_df = pd.read_csv(file_name_2, sep='\\t', index_col=0, header=0)\n",
    "    spreadsheet_1_samples = kn.extract_spreadsheet_gene_names(spreadsheet_1_df)\n",
    "    spreadsheet_2_samples = kn.extract_spreadsheet_gene_names(spreadsheet_2_df)\n",
    "    \n",
    "    #all_samples_list = kn.find_unique_node_names(spreadsheet_1_samples, spreadsheet_2_samples)\n",
    "    \n",
    "    spreadsheet_1_phenotypes = list(spreadsheet_1_df.columns)\n",
    "    spreadsheet_2_phenotypes = list(spreadsheet_2_df.columns)\n",
    "    \n",
    "    #all_phenotypes_list = kn.find_unique_node_names(spreadsheet_1_phenotypes, spreadsheet_2_phenotypes)\n",
    "    \n",
    "    spreadsheet_X_df = pd.concat([spreadsheet_1_df, spreadsheet_2_df], axis=1)\n",
    "    name_base_1, file_extension_1 = os.path.splitext(file_name_1)\n",
    "    name_base_2, file_extension_2 = os.path.splitext(file_name_2)\n",
    "    # print(os.path.basename(name_base_2))\n",
    "    # print(os.path.relpath(name_base_2,start=target_dir))\n",
    "    outfile_name = name_base_1 + '_' + os.path.basename(name_base_2) + '_Mrg.tsv'\n",
    "    spreadsheet_X_df.to_csv(outfile_name, sep='\\t', index=True, header=True)\n",
    "    print('Output written to\\n', outfile_name)\n",
    "    button.fname_list = [outfile_name]\n",
    "    visualize_selected_file(button)\n",
    "\n",
    "#                                         Create and display the widget controls:\n",
    "flistbx_4 = widgets.Dropdown(\n",
    "    options=my_file_list,\n",
    "    value=my_file_list[0],\n",
    "    description='Select File 1:'\n",
    ")\n",
    "display(flistbx_4)\n",
    "\n",
    "visualize_file_button_4 = widgets.Button(\n",
    "    description='Visualize',\n",
    "    disabled=False,\n",
    "    button_style='',\n",
    "    tooltip='file to visulaize',\n",
    "    dropdown_box=flistbx_4\n",
    "    )\n",
    "visualize_file_button_4.on_click(visualize_selected_file)\n",
    "display(visualize_file_button_4)\n",
    "\n",
    "\n",
    "flistbx_5 = widgets.Dropdown(\n",
    "    options=my_file_list,\n",
    "    value=my_file_list[0],\n",
    "    description='Select File 2:'\n",
    ")\n",
    "display(flistbx_5)\n",
    "\n",
    "visualize_file_button_5 = widgets.Button(\n",
    "    description='Visualize',\n",
    "    disabled=False,\n",
    "    button_style='',\n",
    "    tooltip='file to visulaize',\n",
    "    dropdown_box=flistbx_5\n",
    "    )\n",
    "visualize_file_button_5.on_click(visualize_selected_file)\n",
    "display(visualize_file_button_5)\n",
    "\n",
    "\n",
    "\n",
    "output_file_button_3 = widgets.Button(\n",
    "    description='Merge',\n",
    "    disabled=False,\n",
    "    button_style='',\n",
    "    tooltip='merge button',\n",
    "    data_file_key='output_file_name'\n",
    "    )\n",
    "output_file_button_3.on_click(merge)\n",
    "display(output_file_button_3)"
   ]
  },
  {
   "cell_type": "markdown",
   "metadata": {},
   "source": [
    "<a id='select_genes'></a>"
   ]
  },
  {
   "cell_type": "markdown",
   "metadata": {},
   "source": [
    "## Select Genes [[back to top]](#top)\n",
    "\n",
    "### Return one spreadsheet with only those genes selected from an input list: \n",
    "* **Select your genes x samples spreadsheet file and gene list file respectively from the \"Select Spreadsheet File\" and \"Select Gene List File\" dropdown listboxes below.**\n",
    "* **Press the \"Select Genes\" button and the spreadsheet with only those genes selected will be written to a file by same name of the input spreadsheet file with \"_Slct_Gn\" appended in the same directory of the input files.**"
   ]
  },
  {
   "cell_type": "code",
   "execution_count": 9,
   "metadata": {
    "init_cell": true
   },
   "outputs": [
    {
     "name": "stderr",
     "output_type": "stream",
     "text": [
      "Widget Javascript not detected.  It may not be installed or enabled properly.\n"
     ]
    },
    {
     "data": {
      "application/vnd.jupyter.widget-view+json": {
       "model_id": "95bf249271db4ce7a7e3a8bdf20a48f4"
      }
     },
     "metadata": {},
     "output_type": "display_data"
    },
    {
     "name": "stderr",
     "output_type": "stream",
     "text": [
      "Widget Javascript not detected.  It may not be installed or enabled properly.\n"
     ]
    },
    {
     "data": {
      "application/vnd.jupyter.widget-view+json": {
       "model_id": "82d53b03931b4d6eb3ee7b02de46e9ca"
      }
     },
     "metadata": {},
     "output_type": "display_data"
    },
    {
     "name": "stderr",
     "output_type": "stream",
     "text": [
      "Widget Javascript not detected.  It may not be installed or enabled properly.\n"
     ]
    },
    {
     "data": {
      "application/vnd.jupyter.widget-view+json": {
       "model_id": "ae2bb1b82ff746b1852549728f0ada87"
      }
     },
     "metadata": {},
     "output_type": "display_data"
    },
    {
     "name": "stderr",
     "output_type": "stream",
     "text": [
      "Widget Javascript not detected.  It may not be installed or enabled properly.\n"
     ]
    },
    {
     "data": {
      "application/vnd.jupyter.widget-view+json": {
       "model_id": "26eb9a5caebe45ceb1e48bffe0c0741b"
      }
     },
     "metadata": {},
     "output_type": "display_data"
    },
    {
     "name": "stderr",
     "output_type": "stream",
     "text": [
      "Widget Javascript not detected.  It may not be installed or enabled properly.\n"
     ]
    },
    {
     "data": {
      "application/vnd.jupyter.widget-view+json": {
       "model_id": "05503f3dd5844fd1aed00da4b396a5b6"
      }
     },
     "metadata": {},
     "output_type": "display_data"
    }
   ],
   "source": [
    "# utility\n",
    "def read_a_list_file(input_file_name):\n",
    "    \"\"\"\n",
    "    Args:\n",
    "        input_file_name:     full path name of a file containing a list\n",
    "    Returns:\n",
    "        a list that is contained in the file\n",
    "    \"\"\"\n",
    "    with open(input_file_name, 'r') as fh:\n",
    "        str_input = fh.read()\n",
    "    return list(str_input.split())\n",
    "\n",
    "#                                         local function to read files and get common samples and write:\n",
    "def select_genes(button):\n",
    "    if len(my_file_list) == 0 or my_file_list[0] == 'No Data':\n",
    "        return\n",
    "    \n",
    "    file_name_1 = os.path.join(target_dir, flistbx_6.value)\n",
    "    file_name_2 = os.path.join(target_dir, flistbx_7.value)\n",
    "\n",
    "    gene_select_list = read_a_list_file(file_name_2)\n",
    "    spreadsheet_df = pd.read_csv(file_name_1, sep='\\t', index_col=0, header=0)\n",
    "    gene_names = kn.extract_spreadsheet_gene_names(spreadsheet_df)\n",
    "    intersection_names = kn.find_common_node_names(gene_names, gene_select_list)\n",
    "    spreadsheet_intersected_df = spreadsheet_df.loc[intersection_names] \n",
    "    \n",
    "    name_base_1, file_extension_1 = os.path.splitext(file_name_1)\n",
    "    # print(os.path.basename(name_base_2))\n",
    "    # print(os.path.relpath(name_base_2,start=target_dir))\n",
    "    outfile_name = name_base_1 + '_Slt_Gn.tsv'\n",
    "    spreadsheet_intersected_df.to_csv(outfile_name, sep='\\t', index=True, header=True)\n",
    "    print('Output written to\\n', outfile_name)\n",
    "    button.fname_list = [outfile_name]\n",
    "    visualize_selected_file(button)\n",
    "\n",
    "\n",
    "#                                         Create and display the widget controls:\n",
    "flistbx_6 = widgets.Dropdown(\n",
    "    options=my_file_list,\n",
    "    value=my_file_list[0],\n",
    "    description='Select Spreadsheet File:'\n",
    ")\n",
    "display(flistbx_6)\n",
    "\n",
    "visualize_file_button_6 = widgets.Button(\n",
    "    description='Visualize',\n",
    "    disabled=False,\n",
    "    button_style='',\n",
    "    tooltip='file to visulaize',\n",
    "    dropdown_box=flistbx_6\n",
    "    )\n",
    "visualize_file_button_6.on_click(visualize_selected_file)\n",
    "display(visualize_file_button_6)\n",
    "\n",
    "\n",
    "flistbx_7 = widgets.Dropdown(\n",
    "    options=my_file_list,\n",
    "    value=my_file_list[0],\n",
    "    description='Select Gene List File:'\n",
    ")\n",
    "display(flistbx_7)\n",
    "\n",
    "visualize_file_button_7 = widgets.Button(\n",
    "    description='Visualize',\n",
    "    disabled=False,\n",
    "    button_style='',\n",
    "    tooltip='file to visulaize',\n",
    "    dropdown_box=flistbx_7\n",
    "    )\n",
    "visualize_file_button_7.on_click(visualize_selected_file)\n",
    "display(visualize_file_button_7)\n",
    "\n",
    "\n",
    "output_file_button_4 = widgets.Button(\n",
    "    description='Select Genes',\n",
    "    disabled=False,\n",
    "    button_style='',\n",
    "    tooltip='select genes button',\n",
    "    data_file_key='output_file_name'\n",
    "    )\n",
    "output_file_button_4.on_click(select_genes)\n",
    "display(output_file_button_4)"
   ]
  },
  {
   "cell_type": "markdown",
   "metadata": {},
   "source": [
    "<a id='cluster_averages'></a>"
   ]
  },
  {
   "cell_type": "markdown",
   "metadata": {},
   "source": [
    "##  Cluster Averages [[back to top]](#top)\n",
    "\n",
    "### Return a spreadsheet of averages for each category given a genes x samples dataframe and a samples classification dictionary: \n",
    "* **Select your genes x samples spreadsheet file and samples classification dictionary file respectively from the \"Select Spreadsheet File\" and \"Select Dictionary File\" dropdown listboxes below.**\n",
    "* **Press the \"Get Cluster Averages\" button the spreadsheet of averages for each category will be written to a file by the same name of the input spreadsheet file with \"_Clst_Avg\" appended in the same directory of the input files.**"
   ]
  },
  {
   "cell_type": "code",
   "execution_count": 10,
   "metadata": {
    "init_cell": true
   },
   "outputs": [
    {
     "name": "stderr",
     "output_type": "stream",
     "text": [
      "Widget Javascript not detected.  It may not be installed or enabled properly.\n"
     ]
    },
    {
     "data": {
      "application/vnd.jupyter.widget-view+json": {
       "model_id": "1305b1b0a82b4e67969945ffae0616c8"
      }
     },
     "metadata": {},
     "output_type": "display_data"
    },
    {
     "name": "stderr",
     "output_type": "stream",
     "text": [
      "Widget Javascript not detected.  It may not be installed or enabled properly.\n"
     ]
    },
    {
     "data": {
      "application/vnd.jupyter.widget-view+json": {
       "model_id": "f3275dfbac9f43e6847897d26bccced4"
      }
     },
     "metadata": {},
     "output_type": "display_data"
    },
    {
     "name": "stderr",
     "output_type": "stream",
     "text": [
      "Widget Javascript not detected.  It may not be installed or enabled properly.\n"
     ]
    },
    {
     "data": {
      "application/vnd.jupyter.widget-view+json": {
       "model_id": "84128be888f0404bae419bb388429008"
      }
     },
     "metadata": {},
     "output_type": "display_data"
    },
    {
     "name": "stderr",
     "output_type": "stream",
     "text": [
      "Widget Javascript not detected.  It may not be installed or enabled properly.\n"
     ]
    },
    {
     "data": {
      "application/vnd.jupyter.widget-view+json": {
       "model_id": "1099efd3b0eb4cf09ba509b6139a9a19"
      }
     },
     "metadata": {},
     "output_type": "display_data"
    },
    {
     "name": "stderr",
     "output_type": "stream",
     "text": [
      "Widget Javascript not detected.  It may not be installed or enabled properly.\n"
     ]
    },
    {
     "data": {
      "application/vnd.jupyter.widget-view+json": {
       "model_id": "6362f2eb41f241f9a3fbc9d4a51fb542"
      }
     },
     "metadata": {},
     "output_type": "display_data"
    }
   ],
   "source": [
    "#                                         local function to read files and get common samples and write:\n",
    "def get_cluster_averages(button):\n",
    "    if len(my_file_list) == 0 or my_file_list[0] == 'No Data':\n",
    "        return\n",
    "    file_name_1 = os.path.join(target_dir, flistbx_8.value)\n",
    "    file_name_2 = os.path.join(target_dir, flistbx_9.value)\n",
    "\n",
    "    spreadsheet_df = pd.read_csv(file_name_1, sep='\\t', index_col=0, header=0)\n",
    "    labels_df = pd.read_csv(file_name_2, sep='\\t', index_col=0, names=['sample','cluster_number'])\n",
    "    # print(spreadsheet_df)\n",
    "    # print(labels_df)\n",
    "    labels_dict = labels_df.to_dict()['cluster_number']\n",
    "    cluster_numbers = list(np.unique(list(labels_dict.values())))\n",
    "    labels = list(labels_dict.values())\n",
    "    # labels == i is a boolean list\n",
    "    cluster_ave_df = pd.DataFrame({i: spreadsheet_df.iloc[:, labels == i].mean(axis=1) for i in cluster_numbers})\n",
    "    name_base_1, file_extension_1 = os.path.splitext(file_name_1)\n",
    "    # print(os.path.basename(name_base_2))\n",
    "    # print(os.path.relpath(name_base_2,start=target_dir))\n",
    "    outfile_name = name_base_1 + '_Clst_Avg.tsv'\n",
    "    cluster_ave_df.to_csv(outfile_name, sep='\\t', index=True, header=True)\n",
    "    print('Output written to\\n', outfile_name)\n",
    "    button.fname_list = [outfile_name]\n",
    "    visualize_selected_file(button)\n",
    "\n",
    "#                                         Create and display the widget controls:\n",
    "flistbx_8 = widgets.Dropdown(\n",
    "    options=my_file_list,\n",
    "    value=my_file_list[0],\n",
    "    description='Select Spreadsheet File:'\n",
    ")\n",
    "display(flistbx_8)\n",
    "\n",
    "visualize_file_button_8 = widgets.Button(\n",
    "    description='Visualize',\n",
    "    disabled=False,\n",
    "    button_style='',\n",
    "    tooltip='file to visulaize',\n",
    "    dropdown_box=flistbx_8\n",
    "    )\n",
    "visualize_file_button_8.on_click(visualize_selected_file)\n",
    "display(visualize_file_button_8)\n",
    "\n",
    "\n",
    "flistbx_9 = widgets.Dropdown(\n",
    "    options=my_file_list,\n",
    "    value=my_file_list[0],\n",
    "    description='Select Dictionary File:'\n",
    ")\n",
    "display(flistbx_9)\n",
    "\n",
    "visualize_file_button_9 = widgets.Button(\n",
    "    description='Visualize',\n",
    "    disabled=False,\n",
    "    button_style='',\n",
    "    tooltip='file to visulaize',\n",
    "    dropdown_box=flistbx_9\n",
    "    )\n",
    "visualize_file_button_9.on_click(visualize_selected_file)\n",
    "display(visualize_file_button_9)\n",
    "\n",
    "\n",
    "output_file_button_5 = widgets.Button(\n",
    "    description='Get Cluster Averages',\n",
    "    disabled=False,\n",
    "    button_style='',\n",
    "    tooltip='get cluster averages button',\n",
    "    data_file_key='output_file_name'\n",
    "    )\n",
    "output_file_button_5.on_click(get_cluster_averages)\n",
    "display(output_file_button_5)"
   ]
  },
  {
   "cell_type": "markdown",
   "metadata": {},
   "source": [
    "<a id='select_categorical'></a>"
   ]
  },
  {
   "cell_type": "markdown",
   "metadata": {},
   "source": [
    "## Select Categorical [[back to top]](#top)\n",
    "\n",
    "### From a genes x samples spreadsheet and a samples x phenotypes spreadsheet, return both spreadsheets with only the samples corresponding to a category in a phenotype: \n",
    "* **Select your genes x samples spreadsheet and samples x phenotypes spreadsheet respectively from the \"Select G x S File\" and \"Select S x P File\" dropdown listboxes below, and then select the phenotype id and select category from the next 2 dropdown listboxes.**\n",
    "* **Press the \"Select Categorical\" button and the 2 spreadsheets with only the samples corresponding to a category in a phenotype will be written to 2 input files by the same names of those 2 files with \"_Slct_Ctg\" appended in the same directory of the input files.**"
   ]
  },
  {
   "cell_type": "code",
   "execution_count": 11,
   "metadata": {
    "init_cell": true
   },
   "outputs": [
    {
     "name": "stderr",
     "output_type": "stream",
     "text": [
      "Widget Javascript not detected.  It may not be installed or enabled properly.\n"
     ]
    },
    {
     "data": {
      "application/vnd.jupyter.widget-view+json": {
       "model_id": "cb163f6baba3463bb781687e185179cc"
      }
     },
     "metadata": {},
     "output_type": "display_data"
    },
    {
     "name": "stderr",
     "output_type": "stream",
     "text": [
      "Widget Javascript not detected.  It may not be installed or enabled properly.\n"
     ]
    },
    {
     "data": {
      "application/vnd.jupyter.widget-view+json": {
       "model_id": "14ff8a2b65554aa495c1d4cc7603542e"
      }
     },
     "metadata": {},
     "output_type": "display_data"
    },
    {
     "name": "stderr",
     "output_type": "stream",
     "text": [
      "Widget Javascript not detected.  It may not be installed or enabled properly.\n"
     ]
    },
    {
     "data": {
      "application/vnd.jupyter.widget-view+json": {
       "model_id": "7940f7466d554baeaf68ebe932e5900f"
      }
     },
     "metadata": {},
     "output_type": "display_data"
    },
    {
     "name": "stderr",
     "output_type": "stream",
     "text": [
      "Widget Javascript not detected.  It may not be installed or enabled properly.\n"
     ]
    },
    {
     "data": {
      "application/vnd.jupyter.widget-view+json": {
       "model_id": "a427ead361654f0d8a6d7acc1f210615"
      }
     },
     "metadata": {},
     "output_type": "display_data"
    },
    {
     "name": "stderr",
     "output_type": "stream",
     "text": [
      "Widget Javascript not detected.  It may not be installed or enabled properly.\n"
     ]
    },
    {
     "data": {
      "application/vnd.jupyter.widget-view+json": {
       "model_id": "493f0c2f30524022966ca21e9e002e1d"
      }
     },
     "metadata": {},
     "output_type": "display_data"
    },
    {
     "name": "stderr",
     "output_type": "stream",
     "text": [
      "Widget Javascript not detected.  It may not be installed or enabled properly.\n"
     ]
    },
    {
     "data": {
      "application/vnd.jupyter.widget-view+json": {
       "model_id": "5115e64b8f3b4efeb80096b3da6f38b9"
      }
     },
     "metadata": {},
     "output_type": "display_data"
    },
    {
     "name": "stderr",
     "output_type": "stream",
     "text": [
      "Widget Javascript not detected.  It may not be installed or enabled properly.\n"
     ]
    },
    {
     "data": {
      "application/vnd.jupyter.widget-view+json": {
       "model_id": "48585a8a0a4741ad9d55226356adf838"
      }
     },
     "metadata": {},
     "output_type": "display_data"
    }
   ],
   "source": [
    "#                                         local function to read files and select categorical and write:\n",
    "def select_categorical(button):\n",
    "    if len(my_file_list) == 0 or my_file_list[0] == 'No Data':\n",
    "        return\n",
    "    \n",
    "    file_name_1 = os.path.join(target_dir, flistbx_10.value)\n",
    "    file_name_2 = os.path.join(target_dir, flistbx_11.value)\n",
    "    spreadsheet_df = pd.read_csv(file_name_1, sep='\\t', index_col=0, header=0)\n",
    "    phenotype_df = pd.read_csv(file_name_2, sep='\\t', index_col=0, header=0)\n",
    "    phenotype_id = flistbx_12.value\n",
    "    select_category = flistbx_13.value\n",
    "    samples_list = phenotype_df.index[phenotype_df[phenotype_id] == select_category]\n",
    "    #print(phenotype_df.index)\n",
    "    # print(phenotype_df[phenotype_id][2])\n",
    "    # print(samples_list)\n",
    "    phenotype_category_df = phenotype_df.loc[samples_list]\n",
    "    spreadsheet_category_df = spreadsheet_df[samples_list]\n",
    "    \n",
    "    name_base_1, file_extension_1 = os.path.splitext(file_name_1)\n",
    "    outfile_name_1 = name_base_1 + '_Slct_Ctg.tsv'\n",
    "    name_base_2, file_extension_2 = os.path.splitext(file_name_2)\n",
    "    outfile_name_2 = name_base_2 + '_Slct_Ctg.tsv'\n",
    "    spreadsheet_category_df.to_csv(outfile_name_1, sep='\\t', index=True, header=True)\n",
    "    phenotype_category_df.to_csv(outfile_name_2, sep='\\t', index=True, header=True)\n",
    "    print('Outputs written to\\n', outfile_name_1,'\\nand\\n',outfile_name_2)\n",
    "    button.fname_list = [outfile_name_1, outfile_name_2]\n",
    "    visualize_selected_file(button)\n",
    "    \n",
    "def all_phenotypes(file_rel_path):\n",
    "    \"\"\"get all the phenotypes, i.e. column names, of the samples x phenotypes dataframe, \n",
    " which is read from the file_rel_path file \"\"\"\n",
    "    try:\n",
    "        phenotype_df = pd.read_csv(os.path.join(target_dir,file_rel_path), sep='\\t', index_col=0, header=0)\n",
    "        return list(phenotype_df.columns)\n",
    "    except:\n",
    "        return ['No Data or Invalid File']\n",
    "\n",
    "\n",
    "def nan_unique(x):\n",
    "    \"\"\"a wrapper of the numpy.unique function that handles the NaN problem, \n",
    "    since numpy.unique will return multiple NaN's\"\"\"\n",
    "    a = np.unique(x)\n",
    "    r = []\n",
    "    has_nan = False\n",
    "    for i in a:\n",
    "        if isinstance(i,float) and np.isnan(i):\n",
    "            if has_nan: \n",
    "                continue\n",
    "            else:\n",
    "                has_nan = True\n",
    "                r.append(i)\n",
    "        else:\n",
    "            r.append(i)\n",
    "    return np.array(r)\n",
    "\n",
    "def all_categories(file_rel_path,phenotype_id):\n",
    "    \"\"\"get all the categories, i.e. the values, of a specfic phenotype, \n",
    "    in the dataframe read from file_rel_path file\"\"\"\n",
    "    try:\n",
    "        phenotype_df = pd.read_csv(os.path.join(target_dir,file_rel_path), sep='\\t', index_col=0, header=0)\n",
    "        # print(list(np.unique(phenotype_df[phenotype_id])))\n",
    "        return list(nan_unique(phenotype_df[phenotype_id]))\n",
    "    except:\n",
    "        return ['No Data or Invalid File']\n",
    "\n",
    "#                                         Create and display the widget controls:\n",
    "flistbx_10 = widgets.Dropdown(\n",
    "    options=my_file_list,\n",
    "    value=my_file_list[0],\n",
    "    description='Select G x S File:'\n",
    ")\n",
    "display(flistbx_10)\n",
    "\n",
    "visualize_file_button_10 = widgets.Button(\n",
    "    description='Visualize',\n",
    "    disabled=False,\n",
    "    button_style='',\n",
    "    tooltip='file to visulaize',\n",
    "    dropdown_box=flistbx_10\n",
    "    )\n",
    "visualize_file_button_10.on_click(visualize_selected_file)\n",
    "display(visualize_file_button_10)\n",
    "\n",
    "\n",
    "flistbx_11 = widgets.Dropdown(\n",
    "    options=my_file_list,\n",
    "    value=my_file_list[0],\n",
    "    description='Select S x P File:'\n",
    ")\n",
    "display(flistbx_11)\n",
    "\n",
    "visualize_file_button_11 = widgets.Button(\n",
    "    description='Visualize',\n",
    "    disabled=False,\n",
    "    button_style='',\n",
    "    tooltip='file to visulaize',\n",
    "    dropdown_box=flistbx_11\n",
    "    )\n",
    "visualize_file_button_11.on_click(visualize_selected_file)\n",
    "display(visualize_file_button_11)\n",
    "\n",
    "\n",
    "flistbx_12 = widgets.Dropdown(\n",
    "    options=all_phenotypes(my_file_list[0]),\n",
    "    value=all_phenotypes(my_file_list[0])[0],\n",
    "    description='Select Phenotype Id:'\n",
    ")\n",
    "\n",
    "flistbx_13 = widgets.Dropdown(\n",
    "    options=all_categories(my_file_list[0],flistbx_12.value),\n",
    "    value=all_categories(my_file_list[0],flistbx_12.value)[0],\n",
    "    description='Select Select Category:'\n",
    ")\n",
    "\n",
    "def handle_file_change(change):\n",
    "    \"\"\"the callback registered to handle changes in the 'value' \n",
    "    attribute of widget 'flist_11'\"\"\"\n",
    "    flistbx_12.options = all_phenotypes(change['new']) \n",
    "    flistbx_12.value = all_phenotypes(change['new'])[0]\n",
    "    flistbx_13.options = all_categories(change['new'],flistbx_12.value)\n",
    "    flistbx_13.value = all_categories(change['new'],flistbx_12.value)[0]\n",
    "\n",
    "flistbx_11.observe(handle_file_change, names='value')\n",
    "\n",
    "\n",
    "def handle_phenotype_change(change):\n",
    "    \"\"\"the callback registered to handle changes in the 'value' \n",
    "    attribute of widget 'flist_12'\"\"\"\n",
    "    flistbx_13.options = all_categories(flistbx_11.value,change['new'])\n",
    "    flistbx_13.value = all_categories(flistbx_11.value,change['new'])[0]\n",
    "\n",
    "flistbx_12.observe(handle_phenotype_change, names='value')\n",
    "\n",
    "display(flistbx_12, flistbx_13)\n",
    "\n",
    "output_file_button_6 = widgets.Button(\n",
    "    description='Select Categorical',\n",
    "    disabled=False,\n",
    "    button_style='',\n",
    "    tooltip='select categorical button',\n",
    "    data_file_key='output_file_name'\n",
    "    )\n",
    "output_file_button_6.on_click(select_categorical)\n",
    "display(output_file_button_6)"
   ]
  }
 ],
 "metadata": {
  "celltoolbar": "Initialization Cell",
  "kernelspec": {
   "display_name": "Python 3",
   "language": "python",
   "name": "python3"
  },
  "language_info": {
   "codemirror_mode": {
    "name": "ipython",
    "version": 3
   },
   "file_extension": ".py",
   "mimetype": "text/x-python",
   "name": "python",
   "nbconvert_exporter": "python",
   "pygments_lexer": "ipython3",
   "version": "3.5.3"
  },
  "varInspector": {
   "cols": {
    "lenName": 16,
    "lenType": 16,
    "lenVar": 40
   },
   "kernels_config": {
    "python": {
     "delete_cmd_postfix": "",
     "delete_cmd_prefix": "del ",
     "library": "var_list.py",
     "varRefreshCmd": "print(var_dic_list())"
    },
    "r": {
     "delete_cmd_postfix": ") ",
     "delete_cmd_prefix": "rm(",
     "library": "var_list.r",
     "varRefreshCmd": "cat(var_dic_list()) "
    }
   },
   "types_to_exclude": [
    "module",
    "function",
    "builtin_function_or_method",
    "instance",
    "_Feature"
   ],
   "window_display": false
  }
 },
 "nbformat": 4,
 "nbformat_minor": 1
}
