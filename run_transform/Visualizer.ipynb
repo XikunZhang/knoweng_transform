{
 "cells": [
  {
   "cell_type": "code",
   "execution_count": null,
   "metadata": {
    "collapsed": true
   },
   "outputs": [],
   "source": [
    "import warnings\n",
    "warnings.filterwarnings('ignore')\n",
    "\n",
    "import os\n",
    "import sys\n",
    "import pandas as pd\n",
    "\n",
    "from IPython.display import HTML\n",
    "\n",
    "import ipywidgets as widgets"
   ]
  },
  {
   "cell_type": "code",
   "execution_count": null,
   "metadata": {},
   "outputs": [],
   "source": [
    "%%html\n",
    "<style>\n",
    "div.input {\n",
    "    display:none;\n",
    "}\n",
    "div.output_stderr{\n",
    "    display:none\n",
    "}\n",
    "</style>"
   ]
  },
  {
   "cell_type": "markdown",
   "metadata": {},
   "source": [
    "### View a file:\n",
    "* **Select your spreadsheet file from the \"Select File\" dropdown listbox below.**\n",
    "* **Press the \"Visualize\" button and the spreadsheet (or the upper-left if it is bit) will be displayed.**"
   ]
  },
  {
   "cell_type": "code",
   "execution_count": null,
   "metadata": {},
   "outputs": [],
   "source": [
    "#                                         single cell for select, open and Visualize:\n",
    "#                                         target directory set for docker run -v `pwd`:...   ==  mount user data\n",
    "target_dir = '../../Samples_Clustering_Pipeline/data/spreadsheets'\n",
    "\n",
    "import warnings\n",
    "warnings.filterwarnings('ignore')\n",
    "\n",
    "import os\n",
    "import sys\n",
    "import pandas as pd\n",
    "\n",
    "from IPython.display import HTML\n",
    "\n",
    "import ipywidgets as widgets\n",
    "\n",
    "#                                         local function to open and Visualize:\n",
    "def visualize_selected_file(obie_jobie):\n",
    "\n",
    "    fname = os.path.join(target_dir, flistbx.value)\n",
    "    pheno_df = pd.read_csv(fname,sep='\\t',header=0,index_col=0)\n",
    "    Step = pheno_df.iloc[0:10,0:10];\n",
    "    Step2 = HTML(Step.to_html())\n",
    "    display(Step2)\n",
    "#                                         Get list of (docker run -v) mounted files:\n",
    "flist = os.listdir(target_dir)\n",
    "FEXT = ['.tsv', '.txt', '.df']\n",
    "my_file_list = []\n",
    "\n",
    "for f in flist:\n",
    "    if os.path.isfile(os.path.join(target_dir, f)):\n",
    "        noNeed, f_ext = os.path.splitext(f)\n",
    "        if f_ext in FEXT:\n",
    "            my_file_list.append(f)\n",
    "\n",
    "#                                         (docker run -v) mounted files was empty:\n",
    "if len(my_file_list) <= 0:\n",
    "    my_file_list.append('No Data')\n",
    "\n",
    "#                                         Create and display the widget controls:\n",
    "flistbx = widgets.Dropdown(\n",
    "    options=my_file_list,\n",
    "    value=my_file_list[0],\n",
    "    description='Select File:'\n",
    ")\n",
    "display(flistbx)\n",
    "\n",
    "output_file_button = widgets.Button(\n",
    "    description='Visualize',\n",
    "    disabled=False,\n",
    "    button_style='',\n",
    "    tooltip='file to Visualize',\n",
    "    data_file_key='output_file_name'\n",
    "    )\n",
    "output_file_button.on_click(visualize_selected_file)\n",
    "display(output_file_button)"
   ]
  },
  {
   "cell_type": "code",
   "execution_count": null,
   "metadata": {
    "collapsed": true
   },
   "outputs": [],
   "source": []
  },
  {
   "cell_type": "code",
   "execution_count": null,
   "metadata": {
    "collapsed": true
   },
   "outputs": [],
   "source": []
  },
  {
   "cell_type": "code",
   "execution_count": null,
   "metadata": {
    "collapsed": true
   },
   "outputs": [],
   "source": []
  }
 ],
 "metadata": {
  "kernelspec": {
   "display_name": "Python 3",
   "language": "python",
   "name": "python3"
  },
  "language_info": {
   "codemirror_mode": {
    "name": "ipython",
    "version": 3
   },
   "file_extension": ".py",
   "mimetype": "text/x-python",
   "name": "python",
   "nbconvert_exporter": "python",
   "pygments_lexer": "ipython3",
   "version": "3.5.3"
  },
  "widgets": {
   "state": {
    "0b18030d499641cd8df70ac8d9eb2d84": {
     "views": [
      {
       "cell_index": 0
      }
     ]
    },
    "16154e2827fe48cfbb4906aadf9fc55b": {
     "views": [
      {
       "cell_index": 0
      }
     ]
    },
    "1cedd7e88f6f4d03b4f886294a49b380": {
     "views": [
      {
       "cell_index": 0
      }
     ]
    },
    "21d2a73b15c343ddb915ac81f9de0f99": {
     "views": [
      {
       "cell_index": 0
      }
     ]
    },
    "258f03e649734de7b9695f1aff368728": {
     "views": [
      {
       "cell_index": 0
      }
     ]
    },
    "2b5d02bad3334de0af6323b88eb6de5d": {
     "views": [
      {
       "cell_index": 0
      }
     ]
    },
    "2ce169441bae49999ad95607fd980365": {
     "views": [
      {
       "cell_index": 0
      }
     ]
    },
    "2ff303e874fb4bf1a63686d163e24ef7": {
     "views": [
      {
       "cell_index": 0
      }
     ]
    },
    "33ad9bd61abc412d9a89435a1e093a7b": {
     "views": [
      {
       "cell_index": 0
      }
     ]
    },
    "384b3b19bcdf4b85b94f6a09b424288d": {
     "views": [
      {
       "cell_index": 0
      }
     ]
    },
    "3d194980f4894b06834f01cf676535c2": {
     "views": [
      {
       "cell_index": 0
      }
     ]
    },
    "4703990bcb5a448a81dad49e7a068528": {
     "views": [
      {
       "cell_index": 0
      }
     ]
    },
    "4b5b68e73a17453985a9685a9bb78d96": {
     "views": [
      {
       "cell_index": 0
      }
     ]
    },
    "4b9b5bba64774a6ab6261636ef23808a": {
     "views": [
      {
       "cell_index": 0
      }
     ]
    },
    "56e2e65c73f04ad380bbd85b6ac05944": {
     "views": [
      {
       "cell_index": 0
      }
     ]
    },
    "7177e6ad657c4eea92d93a1a0bcf4610": {
     "views": [
      {
       "cell_index": 0
      }
     ]
    },
    "751444a2d0894b8dbc886f988de4e196": {
     "views": [
      {
       "cell_index": 0
      }
     ]
    },
    "7a153337791f48a39ecbeed547fc6315": {
     "views": [
      {
       "cell_index": 0
      }
     ]
    },
    "83586e5e498341c0a22b089ef700fcff": {
     "views": [
      {
       "cell_index": 0
      }
     ]
    },
    "86fa6bb66d844583bbe0597f1eac09f3": {
     "views": [
      {
       "cell_index": 0
      }
     ]
    },
    "8d32ab4e7b0c4f9aa98d3f81c2353f98": {
     "views": [
      {
       "cell_index": 0
      }
     ]
    },
    "976a9ee191ff49709afb439edda12e9a": {
     "views": [
      {
       "cell_index": 0
      }
     ]
    },
    "97bfe7c9c9f34d17840b0c694a43cae2": {
     "views": [
      {
       "cell_index": 0
      }
     ]
    },
    "9bbba735cd2f4b5895f2374e988439e0": {
     "views": [
      {
       "cell_index": 0
      }
     ]
    },
    "a66a8369a30543918ba257bd01aba0a8": {
     "views": [
      {
       "cell_index": 0
      }
     ]
    },
    "a96691b915134d6eac71ada2c2566624": {
     "views": [
      {
       "cell_index": 0
      }
     ]
    },
    "ac772ad0b6c24cac9a36d296e989763d": {
     "views": [
      {
       "cell_index": 0
      }
     ]
    },
    "afeb53efd9934f329996e24c6a33353c": {
     "views": [
      {
       "cell_index": 0
      }
     ]
    },
    "b3d297e3325e4d7e9d39b0952ae5fb26": {
     "views": [
      {
       "cell_index": 0
      }
     ]
    },
    "b4062eea4b6d4efd96dd4b5f356e89df": {
     "views": [
      {
       "cell_index": 0
      }
     ]
    },
    "bad1c0002bc44c2fb841103dc27d8d18": {
     "views": [
      {
       "cell_index": 0
      }
     ]
    },
    "edf6778149ad454395051dd916effb92": {
     "views": [
      {
       "cell_index": 0
      }
     ]
    },
    "f7089a94aee14d44868810a32f270490": {
     "views": [
      {
       "cell_index": 0
      }
     ]
    },
    "f79c94d38d9b4ee4a1e6891e2e7484e5": {
     "views": [
      {
       "cell_index": 0
      }
     ]
    },
    "f833f22db310408ab86f3da1999d5769": {
     "views": [
      {
       "cell_index": 0
      }
     ]
    }
   },
   "version": "1.2.0"
  }
 },
 "nbformat": 4,
 "nbformat_minor": 2
}
