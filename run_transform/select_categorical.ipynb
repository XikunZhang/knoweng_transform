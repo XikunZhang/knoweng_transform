{
 "cells": [
  {
   "cell_type": "markdown",
   "metadata": {},
   "source": [
    "# Spreadsheet - select_categorical \n",
    "\n",
    "### From a genes x samples spreadsheet and a samples x phenotypes spreadsheet, return both spreadsheets with only the samples corresponding to a category in a phenotype: \n",
    "* **Select your \"Input Files\" in the first 2 the dropdown listboxes and then select the phenotype id and select category in the next 2 dropdown listboxes.**\n",
    "* **Press \"Select Categorical\" and both spreadsheets with only the samples corresponding to a category in a phenotype will be written to files by the same names with \"_Slct_Ctg\" appended.**"
   ]
  },
  {
   "cell_type": "code",
   "execution_count": 1,
   "metadata": {
    "init_cell": true
   },
   "outputs": [],
   "source": [
    "# %%html\n",
    "# <style>\n",
    "# div.input {\n",
    "#     display:none;\n",
    "# }\n",
    "# div.output_stderr{\n",
    "#     display:none\n",
    "# }\n",
    "# </style>"
   ]
  },
  {
   "cell_type": "code",
   "execution_count": 2,
   "metadata": {
    "init_cell": true
   },
   "outputs": [
    {
     "data": {
      "application/vnd.jupyter.widget-view+json": {
       "model_id": "b376c43c380940de9a22d4cfb4ea6fe7"
      }
     },
     "metadata": {},
     "output_type": "display_data"
    },
    {
     "data": {
      "application/vnd.jupyter.widget-view+json": {
       "model_id": "cd8156283d274578bc641854aa97d09f"
      }
     },
     "metadata": {},
     "output_type": "display_data"
    },
    {
     "data": {
      "application/vnd.jupyter.widget-view+json": {
       "model_id": "e618dec5030844faa54b2eb8dee19a74"
      }
     },
     "metadata": {},
     "output_type": "display_data"
    },
    {
     "data": {
      "application/vnd.jupyter.widget-view+json": {
       "model_id": "e89e2ee0fe2b4fb1926c18fb3131a68a"
      }
     },
     "metadata": {},
     "output_type": "display_data"
    },
    {
     "data": {
      "application/vnd.jupyter.widget-view+json": {
       "model_id": "df12afc1b6944fc9b7b4bacc46421d17"
      }
     },
     "metadata": {},
     "output_type": "display_data"
    },
    {
     "name": "stdout",
     "output_type": "stream",
     "text": [
      "Outputs written to\n",
      " ./transform_data/transform_5_spreadsheet_Slct_Ctg.tsv \n",
      "and\n",
      " ./transform_data/spreadsheet_Two_Slct_Ctg.tsv\n"
     ]
    }
   ],
   "source": [
    "#                                         single cell for select, open and select categorical:\n",
    "#                                         target directory set for docker run -v `pwd`:...   ==  mount user data\n",
    "target_dir = '../../'\n",
    "\n",
    "import warnings\n",
    "warnings.filterwarnings('ignore')\n",
    "\n",
    "import os\n",
    "import sys\n",
    "import pandas as pd\n",
    "import numpy\n",
    "\n",
    "from IPython.display import display\n",
    "import ipywidgets as widgets\n",
    "\n",
    "#                                         local function to read files and select categorical and write:\n",
    "def select_categorical(obie_jobie):\n",
    "    if len(my_file_list) == 0 or my_file_list[0] == 'No Data':\n",
    "        return\n",
    "    \n",
    "    file_name_1 = os.path.join(target_dir, flistbx_1.value)\n",
    "    file_name_2 = os.path.join(target_dir, flistbx_2.value)\n",
    "    spreadsheet_df = pd.read_csv(file_name_1, sep='\\t', index_col=0, header=0)\n",
    "    phenotype_df = pd.read_csv(file_name_2, sep='\\t', index_col=0, header=0)\n",
    "    phenotype_id = flistbx_3.value\n",
    "    select_category = flistbx_4.value\n",
    "    samples_list = phenotype_df.index[phenotype_df[phenotype_id] == select_category]\n",
    "    #print(phenotype_df.index)\n",
    "    # print(phenotype_df[phenotype_id][2])\n",
    "    # print(samples_list)\n",
    "    phenotype_category_df = phenotype_df.loc[samples_list]\n",
    "    spreadsheet_category_df = spreadsheet_df[samples_list]\n",
    "    \n",
    "    name_base_1, file_extension_1 = os.path.splitext(file_name_1)\n",
    "    outfile_name_1 = name_base_1 + '_Slct_Ctg.tsv'\n",
    "    name_base_2, file_extension_2 = os.path.splitext(file_name_2)\n",
    "    outfile_name_2 = name_base_2 + '_Slct_Ctg.tsv'\n",
    "    spreadsheet_category_df.to_csv(outfile_name_1, sep='\\t', index=True, header=True)\n",
    "    phenotype_category_df.to_csv(outfile_name_2, sep='\\t', index=True, header=True)\n",
    "    print('Outputs written to\\n', outfile_name_1,'\\nand\\n',outfile_name_2)\n",
    "\n",
    "#                                         Get list of (docker run -v) mounted files:\n",
    "flist = os.listdir(target_dir)\n",
    "FEXT = ['.tsv', '.txt', '.df']\n",
    "my_file_list = []\n",
    "for f in flist:\n",
    "    if os.path.isfile(os.path.join(target_dir, f)):\n",
    "        noNeed, f_ext = os.path.splitext(f)\n",
    "        if f_ext in FEXT:\n",
    "            my_file_list.append(f)\n",
    "\n",
    "#                                         (docker run -v) mounted files was empty:\n",
    "if len(my_file_list) <= 0:\n",
    "    my_file_list.append('No Data')\n",
    "    \n",
    "    \n",
    "def all_phenotypes(file_rel_path):\n",
    "    \"\"\"get all the phenotypes, i.e. column names, of the samples x phenotypes dataframe, \n",
    " which is read from the file_rel_path file \"\"\"\n",
    "    try:\n",
    "        phenotype_df = pd.read_csv(os.path.join(target_dir,file_rel_path), sep='\\t', index_col=0, header=0)\n",
    "        return list(phenotype_df.columns)\n",
    "    except:\n",
    "        return ['No Data or Invalid File']\n",
    "\n",
    "\n",
    "def nanunique(x):\n",
    "    \"\"\"a wrapper of the numpy.unique function that handles the NaN problem, \n",
    "    since numpy.unique will return multiple NaN's\"\"\"\n",
    "    a = numpy.unique(x)\n",
    "    r = []\n",
    "    has_nan = False\n",
    "    for i in a:\n",
    "        if isinstance(i,float) and numpy.isnan(i):\n",
    "            if has_nan: \n",
    "                continue\n",
    "            else:\n",
    "                has_nan = True\n",
    "                r.append(i)\n",
    "        else:\n",
    "            r.append(i)\n",
    "    return numpy.array(r)\n",
    "\n",
    "def all_categories(file_rel_path,phenotype_id):\n",
    "    \"\"\"get all the categories, i.e. the values, of a specfic phenotype, \n",
    "    in the dataframe read from file_rel_path file\"\"\"\n",
    "    phenotype_df = pd.read_csv(os.path.join(target_dir,file_rel_path), sep='\\t', index_col=0, header=0)\n",
    "    # print(list(np.unique(phenotype_df[phenotype_id])))\n",
    "    # print(phenotype_id)\n",
    "    # print(phenotype_df[phenotype_id])\n",
    "    return list(nanunique(phenotype_df[phenotype_id]))\n",
    "        \n",
    "\n",
    "#                                         Create and display the widget controls:\n",
    "flistbx_1 = widgets.Dropdown(\n",
    "    options=my_file_list,\n",
    "    value=my_file_list[0],\n",
    "    description='Select File 1:'\n",
    ")\n",
    "\n",
    "flistbx_2 = widgets.Dropdown(\n",
    "    options=my_file_list,\n",
    "    value=my_file_list[0],\n",
    "    description='Select File 2:'\n",
    ")\n",
    "\n",
    "flistbx_3 = widgets.Dropdown(\n",
    "    options=all_phenotypes(my_file_list[0]),\n",
    "    value=all_phenotypes(my_file_list[0])[0],\n",
    "    description='Select Phenotype Id:'\n",
    ")\n",
    "\n",
    "flistbx_4 = widgets.Dropdown(\n",
    "    options=all_categories(my_file_list[0],all_phenotypes(my_file_list[0])[0]),\n",
    "    value=all_categories(my_file_list[0],all_phenotypes(my_file_list[0])[0])[0],\n",
    "    description='Select Select Category:'\n",
    ")\n",
    "\n",
    "def handle_file_change(change):\n",
    "    \"\"\"the callback registered to handle changes in the 'value' \n",
    "    attribute of widget 'flist_2'\"\"\"\n",
    "    flistbx_3.options = all_phenotypes(change['new']) \n",
    "    flistbx_3.value = all_phenotypes(change['new'])[0]\n",
    "    flistbx_4.options = all_categories(change['new'],flistbx_3.value)\n",
    "    flistbx_4.value = all_categories(change['new'],flistbx_3.value)[0]\n",
    "\n",
    "flistbx_2.observe(handle_file_change, names='value')\n",
    "\n",
    "\n",
    "def handle_phenotype_change(change):\n",
    "    \"\"\"the callback registered to handle changes in the 'value' \n",
    "    attribute of widget 'flist_3'\"\"\"\n",
    "    flistbx_4.options = all_categories(flistbx_2.value,change['new'])\n",
    "    flistbx_4.value = all_categories(flistbx_2.value,change['new'])[0]\n",
    "\n",
    "flistbx_3.observe(handle_phenotype_change, names='value')\n",
    "\n",
    "display(flistbx_1, flistbx_2, flistbx_3, flistbx_4)\n",
    "\n",
    "output_file_button = widgets.Button(\n",
    "    description='Select Categorical',\n",
    "    disabled=False,\n",
    "    button_style='',\n",
    "    tooltip='select categorical button',\n",
    "    data_file_key='output_file_name'\n",
    "    )\n",
    "output_file_button.on_click(select_categorical)\n",
    "display(output_file_button)\n"
   ]
  }
 ],
 "metadata": {
  "kernelspec": {
   "display_name": "Python 3",
   "language": "python",
   "name": "python3"
  },
  "language_info": {
   "codemirror_mode": {
    "name": "ipython",
    "version": 3
   },
   "file_extension": ".py",
   "mimetype": "text/x-python",
   "name": "python",
   "nbconvert_exporter": "python",
   "pygments_lexer": "ipython3",
   "version": "3.6.1"
  },
  "varInspector": {
   "cols": {
    "lenName": 16,
    "lenType": 16,
    "lenVar": 40
   },
   "kernels_config": {
    "python": {
     "delete_cmd_postfix": "",
     "delete_cmd_prefix": "del ",
     "library": "var_list.py",
     "varRefreshCmd": "print(var_dic_list())"
    },
    "r": {
     "delete_cmd_postfix": ") ",
     "delete_cmd_prefix": "rm(",
     "library": "var_list.r",
     "varRefreshCmd": "cat(var_dic_list()) "
    }
   },
   "types_to_exclude": [
    "module",
    "function",
    "builtin_function_or_method",
    "instance",
    "_Feature"
   ],
   "window_display": false
  }
 },
 "nbformat": 4,
 "nbformat_minor": 2
}
