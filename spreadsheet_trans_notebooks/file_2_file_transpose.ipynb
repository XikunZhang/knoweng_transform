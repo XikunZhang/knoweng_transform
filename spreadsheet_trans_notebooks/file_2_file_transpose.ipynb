{
 "cells": [
  {
   "cell_type": "markdown",
   "metadata": {},
   "source": [
    "# Spreadsheet - transpose \n",
    "<img src=\"../images/transpose.png\">\n",
    "\n",
    "### Transpose a file:\n",
    "* **Select your \"Input File\" with the drop down list box.**\n",
    "* **Push \"Transpose\" and the transposed file will be written to a file by the same name with \"_T\" appended.**"
   ]
  },
  {
   "cell_type": "code",
   "execution_count": null,
   "metadata": {
    "init_cell": true
   },
   "outputs": [],
   "source": [
    "%%html\n",
    "<style>\n",
    "div.input {\n",
    "    display:none;\n",
    "}\n",
    "div.output_stderr{\n",
    "    display:none\n",
    "}\n",
    "</style>"
   ]
  },
  {
   "cell_type": "code",
   "execution_count": null,
   "metadata": {
    "init_cell": true
   },
   "outputs": [],
   "source": [
    "#                                         single cell for select, open and transpose:\n",
    "#                                         target directory set for docker run -v `pwd`:...   ==  mount user data\n",
    "target_dir = '../../user_data'\n",
    "\n",
    "import warnings\n",
    "warnings.filterwarnings('ignore')\n",
    "\n",
    "import os\n",
    "import sys\n",
    "import pandas as pd\n",
    "\n",
    "from IPython.display import display\n",
    "import ipywidgets as widgets\n",
    "\n",
    "#                                         local function to open and transpose:\n",
    "def transpose_selected_file(obie_jobie):\n",
    "    if len(my_file_list) == 0 or my_file_list[0] == 'No Data':\n",
    "        return\n",
    "    \n",
    "    file_name = os.path.join(target_dir, flistbx.value)\n",
    "    spreadsheet_df = pd.read_csv(file_name, sep='\\t', index_col=0, header=0)\n",
    "    spreadsheet_df = spreadsheet_df.transpose()\n",
    "    name_base, file_extension = os.path.splitext(file_name)\n",
    "    outfile_name = name_base + '_T.tsv'\n",
    "    spreadsheet_df.to_csv(outfile_name, sep='\\t')\n",
    "    print('Output written to\\n', outfile_name)\n",
    "\n",
    "#                                         Get list of (docker run -v) mounted files:\n",
    "flist = os.listdir(target_dir)\n",
    "FEXT = ['.tsv', '.txt', '.df']\n",
    "my_file_list = []\n",
    "for f in flist:\n",
    "    if os.path.isfile(os.path.join(target_dir, f)):\n",
    "        noNeed, f_ext = os.path.splitext(f)\n",
    "        if f_ext in FEXT:\n",
    "            my_file_list.append(f)\n",
    "\n",
    "#                                         (docker run -v) mounted files was empty:\n",
    "if len(my_file_list) <= 0:\n",
    "    my_file_list.append('No Data')\n",
    "\n",
    "#                                         Create and display the widget controls:\n",
    "flistbx = widgets.Dropdown(\n",
    "    options=my_file_list,\n",
    "    value=my_file_list[0],\n",
    "    description='Select File:'\n",
    ")\n",
    "display(flistbx)\n",
    "\n",
    "output_file_button = widgets.Button(\n",
    "    description='Transpose',\n",
    "    disabled=False,\n",
    "    button_style='',\n",
    "    tooltip='file to transpose',\n",
    "    data_file_key='output_file_name'\n",
    "    )\n",
    "output_file_button.on_click(transpose_selected_file)\n",
    "display(output_file_button)"
   ]
  }
 ],
 "metadata": {
  "kernelspec": {
   "display_name": "Python 3",
   "language": "python",
   "name": "python3"
  },
  "language_info": {
   "codemirror_mode": {
    "name": "ipython",
    "version": 3
   },
   "file_extension": ".py",
   "mimetype": "text/x-python",
   "name": "python",
   "nbconvert_exporter": "python",
   "pygments_lexer": "ipython3",
   "version": "3.5.3"
  }
 },
 "nbformat": 4,
 "nbformat_minor": 2
}
