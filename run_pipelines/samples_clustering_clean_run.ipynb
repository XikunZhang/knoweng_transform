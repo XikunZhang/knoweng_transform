{
 "cells": [
  {
   "cell_type": "markdown",
   "metadata": {},
   "source": [
    "#### Run Samples Clustering Pipeline in full\n",
    "* Clone the repositories for Data_Cleanup_Pipeline and Samples_Clustering_Pipeline if necessary.\n",
    "* Run the cleanup and clustering code in accordance with /data/run_files/samples_clustering_4_notebook.yml\n",
    "* Display the run timing and results (or outcome).\n",
    "##### Load Python libraries, check and install pipelines if necessary."
   ]
  },
  {
   "cell_type": "code",
   "execution_count": 8,
   "metadata": {},
   "outputs": [],
   "source": [
    "import os\n",
    "import sys\n",
    "\n",
    "\n",
    "relative_base_dir = '../../'\n",
    "b = os.listdir(relative_base_dir)\n",
    "sc_code_dir = 'Samples_Clustering_Pipeline'\n",
    "sc_code_dir_found = False\n",
    "dc_code_dir = 'Data_Cleanup_Pipeline'\n",
    "dc_code_dir_found = False\n",
    "for d in b:\n",
    "    if os.path.isdir(os.path.join(relative_base_dir, d)):\n",
    "        if d == sc_code_dir:\n",
    "            sc_code_dir_found = True\n",
    "        if d == dc_code_dir:\n",
    "            dc_code_dir_found = True\n",
    "\n",
    "if sc_code_dir_found == False or dc_code_dir_found == False:\n",
    "    cd_2_notebook = os.getcwd()\n",
    "    os.chdir(relative_base_dir)\n",
    "    if sc_code_dir_found == False:\n",
    "        print('cloning Samples Clustering')\n",
    "        os.system('git clone https://github.com/KnowEnG/Samples_Clustering_Pipeline.git')\n",
    "        \n",
    "    if dc_code_dir_found == False:\n",
    "        print('cloning Data Cleanup')\n",
    "        os.system('git clone https://github.com/KnowEnG/Data_Cleanup_Pipeline.git')\n",
    "        \n",
    "    os.chdir(cd_2_notebook)"
   ]
  },
  {
   "cell_type": "code",
   "execution_count": 10,
   "metadata": {},
   "outputs": [],
   "source": [
    "# %%html\n",
    "# <style>\n",
    "# div.input {\n",
    "#     display:none;\n",
    "# }\n",
    "# div.output_stderr{\n",
    "#     display:none\n",
    "# }\n",
    "# </style>"
   ]
  },
  {
   "cell_type": "code",
   "execution_count": null,
   "metadata": {
    "collapsed": true
   },
   "outputs": [],
   "source": []
  }
 ],
 "metadata": {
  "kernelspec": {
   "display_name": "Python 3",
   "language": "python",
   "name": "python3"
  },
  "language_info": {
   "codemirror_mode": {
    "name": "ipython",
    "version": 3
   },
   "file_extension": ".py",
   "mimetype": "text/x-python",
   "name": "python",
   "nbconvert_exporter": "python",
   "pygments_lexer": "ipython3",
   "version": "3.5.2"
  }
 },
 "nbformat": 4,
 "nbformat_minor": 2
}
