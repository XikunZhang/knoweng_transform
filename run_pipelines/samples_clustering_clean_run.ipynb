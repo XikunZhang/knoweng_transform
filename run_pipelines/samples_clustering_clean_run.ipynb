{
 "cells": [
  {
   "cell_type": "markdown",
   "metadata": {},
   "source": [
    "#### Run Samples Clustering Pipeline in full\n",
    "* Clone the repositories for Data_Cleanup_Pipeline and Samples_Clustering_Pipeline if necessary.\n",
    "* Run the cleanup and clustering code in accordance with /data/run_files/samples_clustering_4_notebook.yml\n",
    "* Display the run timing and results (or outcome).\n",
    "##### Load Python libraries, check and install pipelines if necessary."
   ]
  },
  {
   "cell_type": "code",
   "execution_count": 2,
   "metadata": {},
   "outputs": [
    {
     "name": "stdout",
     "output_type": "stream",
     "text": [
      "searching for: Data_Cleanup_Pipeline Samples_Clustering_Pipeline\n",
      "Found: Data_Cleanup_Pipeline\n",
      "Found: Samples_Clustering_Pipeline\n"
     ]
    }
   ],
   "source": [
    "import os\n",
    "import sys\n",
    "import pandas as pd\n",
    "\n",
    "from IPython.display import display\n",
    "import ipywidgets as widgets\n",
    "\n",
    "relative_base_dir = '../../'\n",
    "b = os.listdir(relative_base_dir)\n",
    "sc_code_dir = 'Samples_Clustering_Pipeline'\n",
    "sc_code_dir_found = False\n",
    "dc_code_dir = 'Data_Cleanup_Pipeline'\n",
    "dc_code_dir_found = False\n",
    "print('searching for:', dc_code_dir, sc_code_dir)\n",
    "for d in b:\n",
    "    if os.path.isdir(os.path.join(relative_base_dir, d)):\n",
    "        if d == sc_code_dir:\n",
    "            print('Found:', sc_code_dir)\n",
    "            sc_code_dir_found = True\n",
    "        if d == dc_code_dir:\n",
    "            print('Found:', dc_code_dir)\n",
    "            dc_code_dir_found = True\n",
    "\n",
    "if sc_code_dir_found == False or dc_code_dir_found == False:\n",
    "    cd_2_notebook = os.getcwd()\n",
    "    os.chdir(relative_base_dir)\n",
    "    if sc_code_dir_found == False:\n",
    "        print('cloning Samples Clustering')\n",
    "        os.system('git clone https://github.com/KnowEnG/Samples_Clustering_Pipeline.git')\n",
    "        \n",
    "    if dc_code_dir_found == False:\n",
    "        print('cloning Data Cleanup')\n",
    "        os.system('git clone https://github.com/KnowEnG/Data_Cleanup_Pipeline.git')\n",
    "        \n",
    "    os.chdir(cd_2_notebook)"
   ]
  },
  {
   "cell_type": "code",
   "execution_count": 10,
   "metadata": {
    "collapsed": true
   },
   "outputs": [],
   "source": [
    "# %%html\n",
    "# <style>\n",
    "# div.input {\n",
    "#     display:none;\n",
    "# }\n",
    "# div.output_stderr{\n",
    "#     display:none\n",
    "# }\n",
    "# </style>"
   ]
  },
  {
   "cell_type": "code",
   "execution_count": 5,
   "metadata": {},
   "outputs": [
    {
     "data": {
      "application/vnd.jupyter.widget-view+json": {
       "model_id": "7dd2e6bf5d1340068a4251e23b4a91c5"
      }
     },
     "metadata": {},
     "output_type": "display_data"
    },
    {
     "data": {
      "application/vnd.jupyter.widget-view+json": {
       "model_id": "57aae5780a5744ea917f3df8b5ae5491"
      }
     },
     "metadata": {},
     "output_type": "display_data"
    }
   ],
   "source": [
    "#                                         Get list of (docker run -v) mounted files:\n",
    "flist = os.listdir(relative_base_dir)\n",
    "FEXT = ['tsv', 'txt', 'df', 'edge']\n",
    "my_file_list = []\n",
    "for f in flist:\n",
    "    if os.path.isfile(os.path.join(relative_base_dir, f)):\n",
    "        noNeed, f_ext = os.path.splitext(f)\n",
    "        if f_ext in FEXT:\n",
    "            my_file_list.append(f)\n",
    "\n",
    "#                                         (docker run -v) mounted files was empty:\n",
    "if len(my_file_list) <= 0:\n",
    "    my_file_list.append('No Data')\n",
    "\n",
    "#                                         Create and display the widget controls:\n",
    "flistbx = widgets.Dropdown(\n",
    "    options=my_file_list,\n",
    "    value=my_file_list[0],\n",
    "    description='Select File:'\n",
    ")\n",
    "display(flistbx)\n",
    "\n",
    "output_file_button = widgets.Button(\n",
    "    description='Go Go Go',\n",
    "    disabled=False,\n",
    "    button_style='',\n",
    "    tooltip='file to transpose',\n",
    "    data_file_key='output_file_name'\n",
    "    )\n",
    "# output_file_button.on_click(transpose_selected_file)\n",
    "display(output_file_button)"
   ]
  },
  {
   "cell_type": "code",
   "execution_count": null,
   "metadata": {
    "collapsed": true
   },
   "outputs": [],
   "source": []
  }
 ],
 "metadata": {
  "kernelspec": {
   "display_name": "Python 3",
   "language": "python",
   "name": "python3"
  },
  "language_info": {
   "codemirror_mode": {
    "name": "ipython",
    "version": 3
   },
   "file_extension": ".py",
   "mimetype": "text/x-python",
   "name": "python",
   "nbconvert_exporter": "python",
   "pygments_lexer": "ipython3",
   "version": "3.5.2"
  }
 },
 "nbformat": 4,
 "nbformat_minor": 2
}
