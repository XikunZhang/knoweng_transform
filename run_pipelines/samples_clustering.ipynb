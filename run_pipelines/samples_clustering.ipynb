{
 "cells": [
  {
   "cell_type": "markdown",
   "metadata": {},
   "source": []
  },
  {
   "cell_type": "code",
   "execution_count": 1,
   "metadata": {
    "collapsed": true
   },
   "outputs": [],
   "source": [
    "import os\n",
    "import sys\n",
    "\n",
    "\n",
    "import time\n",
    "import numpy as np\n",
    "import pandas as pd\n",
    "import yaml\n",
    "import knpackage.toolbox as kn\n",
    "\n",
    "from IPython.display import display\n",
    "\n",
    "# sys.path.insert(1, '../src')\n",
    "# import KnowEnG_graphics as gu\n",
    "sys.path.insert(1, '../../Data_Cleanup_Pipeline/src')\n",
    "import data_cleanup_toolbox as dctbx\n",
    "\n",
    "sys.path.insert(1, '../../Samples_Clustering_Pipeline/src')\n",
    "import sample_clustering_toolbox as sc_tbx"
   ]
  },
  {
   "cell_type": "code",
   "execution_count": 2,
   "metadata": {},
   "outputs": [],
   "source": [
    "#     'phenotype_name_full_path':   '../../Samples_Clustering_Pipeline/data/spreadsheets/UCEC_phenotype.txt',\n",
    "data_cleanup_dict = {\n",
    "    'spreadsheet_name_full_path': '../../Samples_Clustering_Pipeline/data/spreadsheets/tcga_ucec_somatic_mutation_data.df',\n",
    "    'gg_network_name_full_path': '../../Samples_Clustering_Pipeline/data/networks/keg_ST90_4col.edge',\n",
    "    'results_directory':          '../../user_data/run_dir/results',\n",
    "    'taxonid':                    '9606',\n",
    "    'source_hint':                '',\n",
    "    'pipeline_type':              'samples_clustering_pipeline',\n",
    "    'redis_credential':\n",
    "                            {'host': 'knowredis.knowhub.org',\n",
    "                            'password': 'KnowEnG',\n",
    "                            'port': '6380'}\n",
    "}"
   ]
  },
  {
   "cell_type": "code",
   "execution_count": 3,
   "metadata": {},
   "outputs": [
    {
     "data": {
      "text/plain": [
       "{'gg_network_name_full_path': '../../Samples_Clustering_Pipeline/data/networks/keg_ST90_4col.edge',\n",
       " 'pipeline_type': 'samples_clustering_pipeline',\n",
       " 'redis_credential': {'host': 'knowredis.knowhub.org',\n",
       "  'password': 'KnowEnG',\n",
       "  'port': '6380'},\n",
       " 'results_directory': '../../user_data/run_dir/results',\n",
       " 'source_hint': '',\n",
       " 'spreadsheet_name_full_path': '../../Samples_Clustering_Pipeline/data/spreadsheets/tcga_ucec_somatic_mutation_data.df',\n",
       " 'taxonid': '9606'}"
      ]
     },
     "execution_count": 3,
     "metadata": {},
     "output_type": "execute_result"
    }
   ],
   "source": [
    "data_cleanup_dict"
   ]
  },
  {
   "cell_type": "code",
   "execution_count": 4,
   "metadata": {},
   "outputs": [
    {
     "data": {
      "text/plain": [
       "(True,\n",
       " ['INFO: Successfully loaded input data: ../../Samples_Clustering_Pipeline/data/spreadsheets/tcga_ucec_somatic_mutation_data.df with 17547 row(s) and 248 column(s)',\n",
       "  'INFO: Start processing user spreadsheet data.',\n",
       "  'INFO: Start to run sanity checks for user spreadsheet data.',\n",
       "  'INFO: No duplicate column name detected in this data set.',\n",
       "  'INFO: No duplicate row name detected in this data set.',\n",
       "  'INFO: Mapped 17490 gene(s) to ensemble name.',\n",
       "  'INFO: Unable to map 57 gene(s) to ensemble name.',\n",
       "  'INFO: Finished running sanity check for user spreadsheet data.',\n",
       "  'INFO: Found 10441 intersected gene(s) between phenotype and spreadsheet data.',\n",
       "  'INFO: Cleaned user spreadsheet has 17490 row(s), 248 column(s).'])"
      ]
     },
     "execution_count": 4,
     "metadata": {},
     "output_type": "execute_result"
    }
   ],
   "source": [
    "dctbx.run_samples_clustering_pipeline(data_cleanup_dict)"
   ]
  },
  {
   "cell_type": "code",
   "execution_count": 5,
   "metadata": {},
   "outputs": [
    {
     "data": {
      "text/plain": [
       "['.DS_Store',\n",
       " 'tcga_ucec_somatic_mutation_data_ETL.tsv',\n",
       " 'tcga_ucec_somatic_mutation_data_MAP.tsv',\n",
       " 'tcga_ucec_somatic_mutation_data_UNMAPPED.tsv']"
      ]
     },
     "execution_count": 5,
     "metadata": {},
     "output_type": "execute_result"
    }
   ],
   "source": [
    "os.listdir('../../user_data/run_dir/results')"
   ]
  },
  {
   "cell_type": "code",
   "execution_count": 6,
   "metadata": {
    "collapsed": true
   },
   "outputs": [],
   "source": [
    "samples_cluster_dict = {\n",
    "            'method': 'cc_net_nmf',\n",
    "            'spreadsheet_name_full_path': '../test/run_dir/results/tcga_ucec_somatic_mutation_data_ETL.tsv',\n",
    "            'phenotype_name_full_path':   '../test/run_dir/results/UCEC_phenotype_ETL.tsv',\n",
    "            'threshold': '10',\n",
    "            'gg_network_name_full_path':  '../data/networks/keg_ST90_4col.edge',\n",
    "            'results_directory':          '../../user_data/run_dir/results',\n",
    "            'tmp_directory':               '../../user_data/run_dir',\n",
    "            'rwr_max_iterations':         '100',\n",
    "            'rwr_convergence_tolerence':  '1.0e-4',\n",
    "            'rwr_restart_probability':    '0.7',\n",
    "            'rows_sampling_fraction':     '0.8',\n",
    "            'cols_sampling_fraction':     '0.8',\n",
    "            'number_of_bootstraps':       '4',\n",
    "            'number_of_clusters':         '3',\n",
    "            'nmf_conv_check_freq':        '50',\n",
    "            'nmf_max_invariance':         '200',\n",
    "            'nmf_max_iterations':         '10000',\n",
    "            'nmf_penalty_parameter':      '1400',\n",
    "            'top_number_of_genes':        '100',\n",
    "            'processing_method':          'parallel',\n",
    "            'parallelism':                '4'\n",
    "        }\n",
    "# 'rwr_restart_probability':    '0.7'        # Vn+1 = alpha * N * Vn + (1-alpha) * Vo\n",
    "# available methods: serial, parallel, distribute\n",
    "# available clusters: AWS, CS Cluster"
   ]
  },
  {
   "cell_type": "code",
   "execution_count": 7,
   "metadata": {},
   "outputs": [
    {
     "data": {
      "text/plain": [
       "{'cols_sampling_fraction': '0.8',\n",
       " 'gg_network_name_full_path': '../data/networks/keg_ST90_4col.edge',\n",
       " 'method': 'cc_net_nmf',\n",
       " 'nmf_conv_check_freq': '50',\n",
       " 'nmf_max_invariance': '200',\n",
       " 'nmf_max_iterations': '10000',\n",
       " 'nmf_penalty_parameter': '1400',\n",
       " 'number_of_bootstraps': '4',\n",
       " 'number_of_clusters': '3',\n",
       " 'parallelism': '4',\n",
       " 'phenotype_name_full_path': '../test/run_dir/results/UCEC_phenotype_ETL.tsv',\n",
       " 'processing_method': 'parallel',\n",
       " 'results_directory': '../../user_data/run_dir/results',\n",
       " 'rows_sampling_fraction': '0.8',\n",
       " 'rwr_convergence_tolerence': '1.0e-4',\n",
       " 'rwr_max_iterations': '100',\n",
       " 'rwr_restart_probability': '0.7',\n",
       " 'spreadsheet_name_full_path': '../test/run_dir/results/tcga_ucec_somatic_mutation_data_ETL.tsv',\n",
       " 'threshold': '10',\n",
       " 'tmp_directory': '../../user_data/run_dir',\n",
       " 'top_number_of_genes': '100'}"
      ]
     },
     "execution_count": 7,
     "metadata": {},
     "output_type": "execute_result"
    }
   ],
   "source": [
    "samples_cluster_dict"
   ]
  },
  {
   "cell_type": "code",
   "execution_count": null,
   "metadata": {
    "collapsed": true
   },
   "outputs": [],
   "source": [
    "if samples_cluster_dict['method'] == 'cc_net_nmf':\n",
    "    sc_tbx.run_cc_net_nmf(samples_cluster_dict)"
   ]
  },
  {
   "cell_type": "code",
   "execution_count": null,
   "metadata": {
    "collapsed": true
   },
   "outputs": [],
   "source": []
  }
 ],
 "metadata": {
  "kernelspec": {
   "display_name": "Python 3",
   "language": "python",
   "name": "python3"
  },
  "language_info": {
   "codemirror_mode": {
    "name": "ipython",
    "version": 3
   },
   "file_extension": ".py",
   "mimetype": "text/x-python",
   "name": "python",
   "nbconvert_exporter": "python",
   "pygments_lexer": "ipython3",
   "version": "3.5.3"
  }
 },
 "nbformat": 4,
 "nbformat_minor": 2
}
