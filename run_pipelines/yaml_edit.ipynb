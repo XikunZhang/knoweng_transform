{
 "cells": [
  {
   "cell_type": "markdown",
   "metadata": {},
   "source": [
    "## python read a yaml file into a dict, modify it and write it in a new yaml file.\n",
    "* beginning code study for making a run_parameters editor notebook.\n",
    "* missing piece is loop for making and displaying controls for editing each value.\n",
    "* possibly make a control for adding a new key"
   ]
  },
  {
   "cell_type": "code",
   "execution_count": 1,
   "metadata": {
    "collapsed": true
   },
   "outputs": [],
   "source": [
    "import os\n",
    "import yaml"
   ]
  },
  {
   "cell_type": "markdown",
   "metadata": {},
   "source": [
    "### Set the directory name, list the directory, set the filename to read."
   ]
  },
  {
   "cell_type": "code",
   "execution_count": 2,
   "metadata": {},
   "outputs": [
    {
     "data": {
      "text/plain": [
       "['BENCHMARK_1_PPP_Lasso.yml',\n",
       " 'BENCHMARK_1_SC_nmf.yml',\n",
       " 'BENCHMARK_2_ElasticNet.yml',\n",
       " 'BENCHMARK_2_ElasticNet_UserEdited.txt',\n",
       " 'BENCHMARK_2_SC_net_nmf.yml',\n",
       " 'BENCHMARK_3_SC_cc_nmf_serial.yml',\n",
       " 'BENCHMARK_4_SC_cc_nmf_parallel_shared.yml',\n",
       " 'BENCHMARK_5_SC_cc_nmf_parallel_distributed.yml',\n",
       " 'BENCHMARK_6_SC_cc_net_nmf_serial.yml',\n",
       " 'BENCHMARK_7_SC_cc_net_nmf_parallel_shared.yml',\n",
       " 'BENCHMARK_8_SC_cc_net_nmf_parallel_distributed.yml',\n",
       " 'zTEMPLATE_cc_net_nmf.yml']"
      ]
     },
     "execution_count": 2,
     "metadata": {},
     "output_type": "execute_result"
    }
   ],
   "source": [
    "run_file_directory = os.path.abspath('../user_data/run_files')\n",
    "os.listdir(run_file_directory)"
   ]
  },
  {
   "cell_type": "code",
   "execution_count": 3,
   "metadata": {},
   "outputs": [
    {
     "data": {
      "text/plain": [
       "True"
      ]
     },
     "execution_count": 3,
     "metadata": {},
     "output_type": "execute_result"
    }
   ],
   "source": [
    "yaml_file_full_path = os.path.join(run_file_directory, 'BENCHMARK_2_ElasticNet.yml')\n",
    "os.path.isfile(yaml_file_full_path)"
   ]
  },
  {
   "cell_type": "markdown",
   "metadata": {},
   "source": [
    "### Load the dictionary, display it and modify one value."
   ]
  },
  {
   "cell_type": "code",
   "execution_count": 4,
   "metadata": {},
   "outputs": [
    {
     "name": "stdout",
     "output_type": "stream",
     "text": [
      "                 response_name_full_path: ../data/spreadsheets/response_train_clean.df\n",
      "         test_spreadsheet_name_full_path: ../data/spreadsheets/features_test_clean.df\n",
      "                                  method: elastic_net_predict\n",
      "                       results_directory: ./run_dir/results\n",
      "              spreadsheet_name_full_path: ../data/spreadsheets/features_train_clean.df\n"
     ]
    }
   ],
   "source": [
    "with open(yaml_file_full_path, 'r') as infile:\n",
    "    run_parameters = yaml.load(infile)\n",
    "    \n",
    "for k, v in run_parameters.items():\n",
    "    print('%40s: %s'%(k,v))"
   ]
  },
  {
   "cell_type": "code",
   "execution_count": 5,
   "metadata": {
    "collapsed": true
   },
   "outputs": [],
   "source": [
    "run_parameters['response_name_full_path'] = os.path.join(run_file_directory, 'response_train_clean.df')"
   ]
  },
  {
   "cell_type": "markdown",
   "metadata": {},
   "source": [
    "### Set the output file name, and write it."
   ]
  },
  {
   "cell_type": "code",
   "execution_count": 6,
   "metadata": {},
   "outputs": [],
   "source": [
    "new_run_file_name = os.path.join(run_file_directory, 'BENCHMARK_2_ElasticNet_Edited.yml')\n",
    "FileExists = os.path.isfile(new_run_file_name)\n",
    "OverWriteAnyway = True"
   ]
  },
  {
   "cell_type": "code",
   "execution_count": 7,
   "metadata": {
    "collapsed": true
   },
   "outputs": [],
   "source": [
    "if FileExists == False or OverWriteAnyway == True:\n",
    "    with open(new_run_file_name, 'w') as outfile:\n",
    "        yaml.dump(run_parameters, outfile, default_flow_style=False)"
   ]
  },
  {
   "cell_type": "markdown",
   "metadata": {},
   "source": [
    "#### display the directory."
   ]
  },
  {
   "cell_type": "code",
   "execution_count": 8,
   "metadata": {},
   "outputs": [
    {
     "data": {
      "text/plain": [
       "['BENCHMARK_1_PPP_Lasso.yml',\n",
       " 'BENCHMARK_1_SC_nmf.yml',\n",
       " 'BENCHMARK_2_ElasticNet.yml',\n",
       " 'BENCHMARK_2_ElasticNet_UserEdited.txt',\n",
       " 'BENCHMARK_2_ElasticNet_UserEditedEdit.yml',\n",
       " 'BENCHMARK_2_SC_net_nmf.yml',\n",
       " 'BENCHMARK_3_SC_cc_nmf_serial.yml',\n",
       " 'BENCHMARK_4_SC_cc_nmf_parallel_shared.yml',\n",
       " 'BENCHMARK_5_SC_cc_nmf_parallel_distributed.yml',\n",
       " 'BENCHMARK_6_SC_cc_net_nmf_serial.yml',\n",
       " 'BENCHMARK_7_SC_cc_net_nmf_parallel_shared.yml',\n",
       " 'BENCHMARK_8_SC_cc_net_nmf_parallel_distributed.yml',\n",
       " 'zTEMPLATE_cc_net_nmf.yml']"
      ]
     },
     "execution_count": 8,
     "metadata": {},
     "output_type": "execute_result"
    }
   ],
   "source": [
    "os.listdir(run_file_directory)"
   ]
  },
  {
   "cell_type": "code",
   "execution_count": null,
   "metadata": {},
   "outputs": [],
   "source": []
  }
 ],
 "metadata": {
  "kernelspec": {
   "display_name": "Python 3",
   "language": "python",
   "name": "python3"
  },
  "language_info": {
   "codemirror_mode": {
    "name": "ipython",
    "version": 3
   },
   "file_extension": ".py",
   "mimetype": "text/x-python",
   "name": "python",
   "nbconvert_exporter": "python",
   "pygments_lexer": "ipython3",
   "version": "3.5.3"
  }
 },
 "nbformat": 4,
 "nbformat_minor": 2
}
